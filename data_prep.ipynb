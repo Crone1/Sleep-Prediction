{
  "nbformat": 4,
  "nbformat_minor": 0,
  "metadata": {
    "colab": {
      "name": "data_prep.ipynb",
      "provenance": [],
      "collapsed_sections": [
        "O38kMwEQITYf",
        "JLSuglopxawI",
        "C751SdHhN07n",
        "ptNp4gASm2H5",
        "IrqfjdME18qj",
        "M1Fqi2bHnKam",
        "caoopHQe9wpa",
        "JvSYv8y0lGAd",
        "0pQxo4jEocYc",
        "hXJIR0kMi57t",
        "me3R8Xh1itLU",
        "sANslYgNISo6",
        "vETkLlxOvF8o",
        "stEKkungvjrD",
        "lCiQqT3fvrdG",
        "LRmustQU1pyA",
        "15wg8hcFF8mW",
        "Usmr-BMRv8hk",
        "90QTFk8gwKEJ",
        "xOFXkfCo1qkd",
        "HBsvTuew7NVS",
        "__a_oOhN7NVS",
        "3osiJlZJ7NVX",
        "dDj-Kuqlusx6"
      ]
    },
    "kernelspec": {
      "display_name": "Python 3",
      "name": "python3"
    },
    "widgets": {
      "application/vnd.jupyter.widget-state+json": {
        "341036acf87d4b56b0bbaf7f8c66f747": {
          "model_module": "@jupyter-widgets/controls",
          "model_name": "HBoxModel",
          "state": {
            "_view_name": "HBoxView",
            "_dom_classes": [],
            "_model_name": "HBoxModel",
            "_view_module": "@jupyter-widgets/controls",
            "_model_module_version": "1.5.0",
            "_view_count": null,
            "_view_module_version": "1.5.0",
            "box_style": "",
            "layout": "IPY_MODEL_485c5140b6bf48658810c8779c74e229",
            "_model_module": "@jupyter-widgets/controls",
            "children": [
              "IPY_MODEL_ebc933df127b4529bc418b3cd22af2ea",
              "IPY_MODEL_933b59cf285142bb888d454e9cb5b595"
            ]
          }
        },
        "485c5140b6bf48658810c8779c74e229": {
          "model_module": "@jupyter-widgets/base",
          "model_name": "LayoutModel",
          "state": {
            "_view_name": "LayoutView",
            "grid_template_rows": null,
            "right": null,
            "justify_content": null,
            "_view_module": "@jupyter-widgets/base",
            "overflow": null,
            "_model_module_version": "1.2.0",
            "_view_count": null,
            "flex_flow": null,
            "width": null,
            "min_width": null,
            "border": null,
            "align_items": null,
            "bottom": null,
            "_model_module": "@jupyter-widgets/base",
            "top": null,
            "grid_column": null,
            "overflow_y": null,
            "overflow_x": null,
            "grid_auto_flow": null,
            "grid_area": null,
            "grid_template_columns": null,
            "flex": null,
            "_model_name": "LayoutModel",
            "justify_items": null,
            "grid_row": null,
            "max_height": null,
            "align_content": null,
            "visibility": null,
            "align_self": null,
            "height": null,
            "min_height": null,
            "padding": null,
            "grid_auto_rows": null,
            "grid_gap": null,
            "max_width": null,
            "order": null,
            "_view_module_version": "1.2.0",
            "grid_template_areas": null,
            "object_position": null,
            "object_fit": null,
            "grid_auto_columns": null,
            "margin": null,
            "display": null,
            "left": null
          }
        },
        "ebc933df127b4529bc418b3cd22af2ea": {
          "model_module": "@jupyter-widgets/controls",
          "model_name": "FloatProgressModel",
          "state": {
            "_view_name": "ProgressView",
            "style": "IPY_MODEL_0fe810b31c724f93b2855f4ff9f1b6c1",
            "_dom_classes": [],
            "description": "100%",
            "_model_name": "FloatProgressModel",
            "bar_style": "success",
            "max": 31,
            "_view_module": "@jupyter-widgets/controls",
            "_model_module_version": "1.5.0",
            "value": 31,
            "_view_count": null,
            "_view_module_version": "1.5.0",
            "orientation": "horizontal",
            "min": 0,
            "description_tooltip": null,
            "_model_module": "@jupyter-widgets/controls",
            "layout": "IPY_MODEL_8932585d31a34e5f987b49af1857e831"
          }
        },
        "933b59cf285142bb888d454e9cb5b595": {
          "model_module": "@jupyter-widgets/controls",
          "model_name": "HTMLModel",
          "state": {
            "_view_name": "HTMLView",
            "style": "IPY_MODEL_d02cb85978634c9b827b997fad499f62",
            "_dom_classes": [],
            "description": "",
            "_model_name": "HTMLModel",
            "placeholder": "​",
            "_view_module": "@jupyter-widgets/controls",
            "_model_module_version": "1.5.0",
            "value": " 31/31 [1:48:40&lt;00:00, 210.33s/it]",
            "_view_count": null,
            "_view_module_version": "1.5.0",
            "description_tooltip": null,
            "_model_module": "@jupyter-widgets/controls",
            "layout": "IPY_MODEL_f5a787830e6b4ece844ee931640804f9"
          }
        },
        "0fe810b31c724f93b2855f4ff9f1b6c1": {
          "model_module": "@jupyter-widgets/controls",
          "model_name": "ProgressStyleModel",
          "state": {
            "_view_name": "StyleView",
            "_model_name": "ProgressStyleModel",
            "description_width": "initial",
            "_view_module": "@jupyter-widgets/base",
            "_model_module_version": "1.5.0",
            "_view_count": null,
            "_view_module_version": "1.2.0",
            "bar_color": null,
            "_model_module": "@jupyter-widgets/controls"
          }
        },
        "8932585d31a34e5f987b49af1857e831": {
          "model_module": "@jupyter-widgets/base",
          "model_name": "LayoutModel",
          "state": {
            "_view_name": "LayoutView",
            "grid_template_rows": null,
            "right": null,
            "justify_content": null,
            "_view_module": "@jupyter-widgets/base",
            "overflow": null,
            "_model_module_version": "1.2.0",
            "_view_count": null,
            "flex_flow": null,
            "width": null,
            "min_width": null,
            "border": null,
            "align_items": null,
            "bottom": null,
            "_model_module": "@jupyter-widgets/base",
            "top": null,
            "grid_column": null,
            "overflow_y": null,
            "overflow_x": null,
            "grid_auto_flow": null,
            "grid_area": null,
            "grid_template_columns": null,
            "flex": null,
            "_model_name": "LayoutModel",
            "justify_items": null,
            "grid_row": null,
            "max_height": null,
            "align_content": null,
            "visibility": null,
            "align_self": null,
            "height": null,
            "min_height": null,
            "padding": null,
            "grid_auto_rows": null,
            "grid_gap": null,
            "max_width": null,
            "order": null,
            "_view_module_version": "1.2.0",
            "grid_template_areas": null,
            "object_position": null,
            "object_fit": null,
            "grid_auto_columns": null,
            "margin": null,
            "display": null,
            "left": null
          }
        },
        "d02cb85978634c9b827b997fad499f62": {
          "model_module": "@jupyter-widgets/controls",
          "model_name": "DescriptionStyleModel",
          "state": {
            "_view_name": "StyleView",
            "_model_name": "DescriptionStyleModel",
            "description_width": "",
            "_view_module": "@jupyter-widgets/base",
            "_model_module_version": "1.5.0",
            "_view_count": null,
            "_view_module_version": "1.2.0",
            "_model_module": "@jupyter-widgets/controls"
          }
        },
        "f5a787830e6b4ece844ee931640804f9": {
          "model_module": "@jupyter-widgets/base",
          "model_name": "LayoutModel",
          "state": {
            "_view_name": "LayoutView",
            "grid_template_rows": null,
            "right": null,
            "justify_content": null,
            "_view_module": "@jupyter-widgets/base",
            "overflow": null,
            "_model_module_version": "1.2.0",
            "_view_count": null,
            "flex_flow": null,
            "width": null,
            "min_width": null,
            "border": null,
            "align_items": null,
            "bottom": null,
            "_model_module": "@jupyter-widgets/base",
            "top": null,
            "grid_column": null,
            "overflow_y": null,
            "overflow_x": null,
            "grid_auto_flow": null,
            "grid_area": null,
            "grid_template_columns": null,
            "flex": null,
            "_model_name": "LayoutModel",
            "justify_items": null,
            "grid_row": null,
            "max_height": null,
            "align_content": null,
            "visibility": null,
            "align_self": null,
            "height": null,
            "min_height": null,
            "padding": null,
            "grid_auto_rows": null,
            "grid_gap": null,
            "max_width": null,
            "order": null,
            "_view_module_version": "1.2.0",
            "grid_template_areas": null,
            "object_position": null,
            "object_fit": null,
            "grid_auto_columns": null,
            "margin": null,
            "display": null,
            "left": null
          }
        }
      }
    }
  },
  "cells": [
    {
      "cell_type": "markdown",
      "metadata": {
        "id": "O38kMwEQITYf"
      },
      "source": [
        "---\n",
        "---\n",
        "\n",
        "# 1. Intro & Lit Review\n",
        "\n",
        "---\n",
        "---"
      ]
    },
    {
      "cell_type": "markdown",
      "metadata": {
        "id": "PKfShQX3Igu3"
      },
      "source": [
        "Our sleep quality is closely tied to our mental and physical wellbeing. Poor sleep quality can lead to numerous health problems, such as obesity [1], epilepsy [2], depression and suicidal ideation [3]. Thus, it is important for us to understand what the causes of poor sleep are, and how we can address them. Predicting sleep is an important step in this direction. If certain signals are found to correlate with the quality of sleep, then we can work to see what is influencing these signals and to change them to improve sleep.\n",
        "There are two types of approaches typically seen for the topic of sleep prediction, those being: prediction of the quality of a person’s sleep based on data collected on them throughout the course of the day, and prediction of the future sleep state using data collected during sleep.\n",
        "\n",
        "The first of these approaches we will look at is predicting the quality of a person’s sleep using the data collected on them throughout the course of the day. In [4], they use sleep and sleep-related factors measured during the morning, afternoon and evening periods of the day to predict quality of sleep. In this research, they showed there is a significant correlation between sleep quality and both physical activity and exposure to light. Similarly, in [5], they used wearable sensor data collected while awake to predict sleep efficiency. These kinds of long term predictive models could be used by employers to ensure employees in key, high-risk positions are not fatigued, as studied in [6], and also could be used by medical practitioners to give recommendations to patients about how they can change their lifestyle in order to improve their sleep quality and hence, improve their general health and wellbeing.\n",
        "\n",
        "The second approach, and perhaps the more interesting one, is the prediction of a person’s sleep state based on data collected on them during that sleep session. The key to this forecasting is first being able to classify the person’s previous and current sleep states. We can then use the data on these classified sleep states to predict the future sleep states. In [7], to classify the sleep stages, they apply a convolutional neural network to multi-channel EEG time series data. They report an average of 92% accuracy across the five stages of sleep, showing that there are ways to accurately classify a person’s sleep state. Using only this kind of classification model, a patient's sleep could be monitored in a retrospective way to help diagnose various disorders such as insomnia, but for our purpose, we would use this model in conjunction with another model to forecast the person’s future sleep pattern in a more proactive fashion.\n",
        "\n",
        "Being able to forecast sleep a few minutes or hours into the future could prove very useful in certain scenarios. Three of these scenarios are in the case of hospital patients with an emphasis on dementia patients, very young children, and criminals post surgery.\n",
        "As pointed out in [8] by the UK Alzheimer's Society, people with dementia can have restless sleep and oftentimes, they can wake up in the middle of the night being quite disorientated. This disorientation can result in them doing things they shouldn’t do, like leaving the house in the middle of the night. In cases like this, some sort of warning on the person’s sleep activity would be a great help as it could give a nurse, a spouse or a carer the opportunity to intercept the person and to reassure them. Even in instances outside of the dementia case study, models like this can provide vital information to healthcare staff in hospitals, nursing homes, and elsewhere to greatly improve efficiency of resources and to improve the quality of care for patients.\n",
        "Prediction of sleep models might also be handy for parents of very young children. We think it would be beneficial to be able to forecast the sleep state of your child in order to be able to plan your day and behaviours better around this. Sometimes, parents limit their activities as they may be unsure whether their child will wake up soon. If we could predict the sleep state and even be able to project a time when the child would wake up, this would offer much more flexibility to parents and give them an oppertunity to plan things more in line with their child's sleep.\n",
        "There are also cases where the prediction of sleep quality is perhaps too granular and it is the binary sleep vs awake that is important. A situation we identified where this might be the case would be when criminals have a medical procedure. If a criminal gets surgery and is sleeping in their recovery, we would want to be able to inform police when that person is due to wake up so that they can be more alert to a potential escape.\n",
        "\n",
        "While these three examples are not an exhaustive list of practical applications of a sleep forecasting model, they help to illustrate the wide range of use cases such a technology could have. While there has not been too much research into this area to date, we hope to fill this research void with our work, building on from both previous works on sleep state classification and previous works on prediction of sleep quality using data collected throughout the day.\n",
        "\n"
      ]
    },
    {
      "cell_type": "markdown",
      "metadata": {
        "id": "JLSuglopxawI"
      },
      "source": [
        "### References"
      ]
    },
    {
      "cell_type": "markdown",
      "metadata": {
        "id": "UEgEhobDVpBY"
      },
      "source": [
        "**1.**   G Beccuti, S Pannain, Sleep and Obesity, 2011. DOI: 10.1097/MCO.0b013e3283479109 \n",
        "\n",
        "**2.**   B Mallow, Sleep Deprivation and Epilepsy, 2004. DOI: 10.1111/j.1535-7597.2004.04509.X \n",
        "\n",
        "**3.**   D Littlewood, S Kyle, L Carter, S Peters, D Pratt, P Gooding, Short sleep duration and poor sleep quality predict next-day suicidal ideation: an ecological momentary assessment study, 2019. DOI: 10.1017/S0033291718001009\n",
        "\n",
        "**4.**   K Park, S Lee, S Wang, S Kim, S Lee, S Cho, S Park, E Lee, Sleep Prediction Algorithm Based On Deep Learning Technology, 2019. DOI: 10.1093/sleep/zsz067.425 \n",
        "\n",
        "**5.**   A Sathyanarayana, S Joty, L Fernandez-Luque, F Ofli, J Srivastava, A Elmagarmid, T Arora, S Taheri, Sleep Quality Prediction From Wearable Data Using Deep Learning, 2016. DOI: 10.2196/mhealth.6562 \n",
        "\n",
        "**6.**   Sahand Hajifar, Hongyue Sun, Fadel M. Megahed, L. Allison Jones-Farmer, Ehsan Rashedi, Lora A. Cavuoto, A forecasting framework for predicting perceived fatigue: Using time series methods to forecast ratings of perceived exertion with features from wearable sensors, 2021. DOI: 10.1016/j.apergo.2020.103262 \n",
        "\n",
        "**7.**   M Santos, Z Cui, X Zheng, X Shao, L Cui, Automatic Sleep Stage Classification Based on Convolutional Neural Network and Fine-Grained Segments, 2018. DOI: 10.1155/2018/9248410 **\n",
        "\n",
        "**8.**  Alzheimers Society. https://www.alzheimers.org.uk/about-dementia/symptoms-and-diagnosis/sleep-and-night-time-disturbance"
      ]
    },
    {
      "cell_type": "markdown",
      "metadata": {
        "id": "C751SdHhN07n"
      },
      "source": [
        "---\n",
        "---\n",
        "\n",
        "# 2. Setup\n",
        "\n",
        "---\n",
        "---"
      ]
    },
    {
      "cell_type": "markdown",
      "metadata": {
        "id": "ptNp4gASm2H5"
      },
      "source": [
        "### Import the relevant packages"
      ]
    },
    {
      "cell_type": "code",
      "metadata": {
        "id": "ivoRQvW_vi8d"
      },
      "source": [
        "import os\n",
        "from google.colab import drive\n",
        "import pandas as pd\n",
        "import numpy as np\n",
        "import seaborn as sns\n",
        "import matplotlib.pyplot as plt\n",
        "from tqdm.auto import tqdm"
      ],
      "execution_count": null,
      "outputs": []
    },
    {
      "cell_type": "markdown",
      "metadata": {
        "id": "IrqfjdME18qj"
      },
      "source": [
        "### Mount the drive"
      ]
    },
    {
      "cell_type": "code",
      "metadata": {
        "colab": {
          "base_uri": "https://localhost:8080/"
        },
        "id": "QZIfGeuLv_KM",
        "outputId": "d4384737-165c-4d94-93ac-d1017a3e3fb2"
      },
      "source": [
        "drive.mount('/content/drive')"
      ],
      "execution_count": null,
      "outputs": [
        {
          "output_type": "stream",
          "text": [
            "Mounted at /content/drive\n"
          ],
          "name": "stdout"
        }
      ]
    },
    {
      "cell_type": "markdown",
      "metadata": {
        "id": "M1Fqi2bHnKam"
      },
      "source": [
        "### Set the directory for reading in and outputting the data"
      ]
    },
    {
      "cell_type": "code",
      "metadata": {
        "id": "NXkgP3r5DMnt"
      },
      "source": [
        "#os.chdir('/content/drive/My Drive/College - 4th Year/CA4015_AdvancedML/Assignment_3/new/notebooks/data') # Liam\n",
        "os.chdir('/content/drive/My Drive/Assignment_3/new/notebooks/data')                                       # Nathan & Adam"
      ],
      "execution_count": null,
      "outputs": []
    },
    {
      "cell_type": "code",
      "metadata": {
        "colab": {
          "base_uri": "https://localhost:8080/"
        },
        "id": "qJQhpUbPwNHL",
        "outputId": "e22747f6-45db-4bf8-9c62-8528aba50528"
      },
      "source": [
        "!pwd"
      ],
      "execution_count": null,
      "outputs": [
        {
          "output_type": "stream",
          "text": [
            "/content/drive/.shortcut-targets-by-id/1CNknqtSZpMl1LnBDxjTucYpgXSD_ekVG/Assignment_3/new/notebooks/data\n"
          ],
          "name": "stdout"
        }
      ]
    },
    {
      "cell_type": "markdown",
      "metadata": {
        "id": "caoopHQe9wpa"
      },
      "source": [
        "### Set the maximum number of rows and columns seen in the output"
      ]
    },
    {
      "cell_type": "code",
      "metadata": {
        "id": "m6QZAwlX920M"
      },
      "source": [
        "pd.set_option('max_rows', 100)\n",
        "pd.set_option('max_columns', 25)"
      ],
      "execution_count": null,
      "outputs": []
    },
    {
      "cell_type": "markdown",
      "metadata": {
        "id": "JvSYv8y0lGAd"
      },
      "source": [
        "### Disable Warning"
      ]
    },
    {
      "cell_type": "code",
      "metadata": {
        "id": "jdFc5l_5lGgj"
      },
      "source": [
        "pd.options.mode.chained_assignment = None"
      ],
      "execution_count": null,
      "outputs": []
    },
    {
      "cell_type": "markdown",
      "metadata": {
        "id": "0pQxo4jEocYc"
      },
      "source": [
        "---\n",
        "---\n",
        "\n",
        "# 3. Load, Join & Clean the data\n",
        "\n",
        "---\n",
        "---"
      ]
    },
    {
      "cell_type": "markdown",
      "metadata": {
        "id": "hXJIR0kMi57t"
      },
      "source": [
        "\n",
        "### Create a function to read in, clean and join the different data sources"
      ]
    },
    {
      "cell_type": "code",
      "metadata": {
        "id": "m8feuLuKEv09"
      },
      "source": [
        "def load_subject_ids(data_folder):\n",
        "    \"\"\"\n",
        "    Create a list containing the subject_id's of all the participants in the study\n",
        "    \"\"\"\n",
        "\n",
        "    subject_ids = []\n",
        "    for filename in os.listdir(data_folder):\n",
        "        subject_id = int(filename.split('_')[0])\n",
        "\n",
        "        # add this to a list of all subject_ids\n",
        "        subject_ids.append(subject_id)\n",
        "        \n",
        "    # remove duplicates and then sort the list\n",
        "    sorted_subject_ids = sorted(list(set(subject_ids)))\n",
        "\n",
        "    return sorted_subject_ids"
      ],
      "execution_count": null,
      "outputs": []
    },
    {
      "cell_type": "code",
      "metadata": {
        "id": "pqaUmbwTwVrq"
      },
      "source": [
        "def load_subjects_cropped_data(data_folder, subject_id):\n",
        "    \"\"\"\n",
        "    For a particular subject, read in the data recorded by their apple watch\n",
        "    \"\"\"\n",
        "\n",
        "    # read in heart rate data\n",
        "    heart_df = pd.read_csv(os.path.join(data_folder, '{}_cleaned_hr.out'.format(subject_id)), sep=\" \", names=[\"time\", \"heart_rate\"])\n",
        "\n",
        "    # read in motion data\n",
        "    motion_df = pd.read_csv(os.path.join(data_folder, '{}_cleaned_motion.out'.format(subject_id)), sep=\" \", names=[\"time\", \"x_motion\", \"y_motion\", \"z_motion\"])\n",
        "\n",
        "    # read in the step count data\n",
        "    steps_df = pd.read_csv(os.path.join(data_folder, '{}_cleaned_counts.out'.format(subject_id)), names=[\"time\", \"step_count\"])\n",
        "\n",
        "    # read in psg sleep label data\n",
        "    labels_df = pd.read_csv(os.path.join(data_folder, '{}_cleaned_psg.out'.format(subject_id)), sep=\" \", names=[\"time\", \"sleep_label\"])\n",
        "\n",
        "    # clean the psg data to remove '-1' values - turn values with '-1' to 'nan'\n",
        "    labels_df = labels_df[labels_df[\"sleep_label\"] != -1]\n",
        "    \n",
        "    return heart_df, motion_df, steps_df, labels_df"
      ],
      "execution_count": null,
      "outputs": []
    },
    {
      "cell_type": "code",
      "metadata": {
        "id": "JKaA-A-WQp6n"
      },
      "source": [
        "def resample(df_to_resample, hz):\n",
        "    \"\"\"\n",
        "    Take in a dataframe of one sensor - eg. |Time|Heart_Rate| - And make the time step interval uniform across all rows\n",
        "    \"\"\"\n",
        "    \n",
        "    df = df_to_resample.copy()\n",
        "\n",
        "    df[\"time\"] = pd.to_datetime(df[\"time\"], unit=\"s\")\n",
        "    df.set_index(\"time\", inplace=True)\n",
        "\n",
        "    new_index = pd.date_range(0, df.index.max(), freq=f\"{1000/hz:.0f}ms\")\n",
        "    df_resampled = df.reindex(df.index.union(new_index)).interpolate().reindex(new_index)\n",
        "\n",
        "    return df_resampled"
      ],
      "execution_count": null,
      "outputs": []
    },
    {
      "cell_type": "code",
      "metadata": {
        "id": "tjwYmUvl8_LK"
      },
      "source": [
        "def load_author_data(data_folder, subject_id):\n",
        "    \"\"\"\n",
        "    For a particular subject, read in the features that the author of the study created\n",
        "    \"\"\"\n",
        "    \n",
        "    # Read in the 5 feature tables defined for each subject_id\n",
        "    heart_rate_feature_df = pd.read_csv(os.path.join(data_folder, f\"{subject_id}_hr_feature.out\"), header=None, names=[\"heart_rate_feature\"])\n",
        "    count_feature_df = pd.read_csv(os.path.join(data_folder, f\"{subject_id}_count_feature.out\"), header=None, names=[\"count_feature\"])\n",
        "    time_feature_df = pd.read_csv(os.path.join(data_folder, f\"{subject_id}_time_feature.out\"), header=None, names=[\"time_feature\"])\n",
        "    cosine_feature_df = pd.read_csv(os.path.join(data_folder, f\"{subject_id}_cosine_feature.out\"), header=None, names=[\"cosine_feature\"])\n",
        "    psg_label_df = pd.read_csv(os.path.join(data_folder, f\"{subject_id}_psg_labels.out\"), header=None, names=[\"psg_label\"])\n",
        "\n",
        "    # Convert the time from hours into a timestamp in seconds\n",
        "    time_feature_df[\"time\"] = pd.to_datetime((time_feature_df[\"time_feature\"]*60*60).apply(lambda t: int(round(t))), unit=\"s\")\n",
        "    \n",
        "    subject_features = pd.concat([time_feature_df, heart_rate_feature_df, count_feature_df, cosine_feature_df, psg_label_df], axis=1)\n",
        "\n",
        "    return subject_features"
      ],
      "execution_count": null,
      "outputs": []
    },
    {
      "cell_type": "code",
      "metadata": {
        "id": "T4k8UvA2SRk3"
      },
      "source": [
        "def load_and_preprocess_data(cropped_data_folder, author_data_folder, subject_id, hz=1/30):\n",
        "    \"\"\"\n",
        "    For a particular subject:\n",
        "        1. Read in the cropped sensor data\n",
        "        2. Fix the time interval for each sensor dataframe to be uniform\n",
        "        3. Merge all that subjects sensor data into one table\n",
        "\n",
        "        4. Read in the authors features\n",
        "        5. Fix the time interval for these features to be uniform\n",
        "        6. Join these authors features to the merged sensor dataframe created in step 1, 2 & 3\n",
        "\n",
        "        7. Drop the rows in this dataframe that have an Nan value in one of the specified columns\n",
        "    \"\"\"\n",
        "\n",
        "    # ----------------------\n",
        "    # ==== CROPPED DATA ====\n",
        "    # ----------------------\n",
        "\n",
        "    # Load in the sensor data for this given subject\n",
        "    heart_df, motion_df, steps_df, labels_df = load_subjects_cropped_data(cropped_data_folder, subject_id)\n",
        "\n",
        "    # Resample the time column of these sensor dataframes to get a uniform timestamp step\n",
        "    resampled_dfs = []\n",
        "    for df in [heart_df, motion_df, steps_df, labels_df]:\n",
        "        resampled_df = pd.DataFrame(columns=df.columns) if len(df) == 0 else resample(df, hz)\n",
        "        resampled_dfs.append(resampled_df)\n",
        "\n",
        "    # Merge these sensor dataframes into one\n",
        "    all_sensor_df = resampled_dfs[0]\n",
        "    for _df in resampled_dfs[1:]:\n",
        "        all_sensor_df = all_sensor_df.merge(_df, how=\"outer\", left_index=True, right_index=True)\n",
        "\n",
        "    # drop the rows in this dataframe where there is no corresponding sleep state value\n",
        "    fixed_all_sensor_df = all_sensor_df.dropna(subset=[\"sleep_label\"])\n",
        "\n",
        "    # Then reset the timestamp index back to 0\n",
        "    fixed_all_sensor_df.index = (fixed_all_sensor_df.index - fixed_all_sensor_df.index[0]) + pd.Timestamp('1970-01-01 00:00:00')\n",
        "\n",
        "    # The 'sleep_label' will now contain some float values from the interpolation used in the resampling.\n",
        "    # As there are now no NAN's in this column, this can be fixed by rounding these floats to integers\n",
        "    fixed_all_sensor_df[\"sleep_label\"] = fixed_all_sensor_df[\"sleep_label\"].round().astype(int)\n",
        "\n",
        "\n",
        "    # -----------------------\n",
        "    # ===== AUTHOR DATA =====\n",
        "    # -----------------------\n",
        "\n",
        "    # Load in the features created by th author of the study\n",
        "    author_feature_df = load_author_data(author_data_folder, subject_id)\n",
        "\n",
        "    # Resample these features\n",
        "    resampled_author_df = resample(author_feature_df, hz)\n",
        "\n",
        "    # The 'psg_label' will now contain some float values from the interpolation used in the resampling.\n",
        "    # As there are no NAN's in this column, this can be fixed by rounding these floats to integers\n",
        "    resampled_author_df[\"psg_label\"] = resampled_author_df[\"psg_label\"].round().astype(int)\n",
        "\n",
        "    # Merge these author features with the rest of the sensor data\n",
        "    sensor_nd_author_feature_df = fixed_all_sensor_df.merge(resampled_author_df, left_index=True, right_index=True)\n",
        "\n",
        "    # Take the time out of the index and make it a column\n",
        "    df = sensor_nd_author_feature_df.reset_index().rename(columns={\"index\": \"time\"})\n",
        "\n",
        "    # Drop the rows that contain NAN values in their heart_rate or one of the motion columns\n",
        "    no_nan_df = df.dropna(subset=[\"heart_rate\", \"x_motion\", \"y_motion\", \"z_motion\"]).reset_index(drop=True)\n",
        "\n",
        "    return no_nan_df"
      ],
      "execution_count": null,
      "outputs": []
    },
    {
      "cell_type": "code",
      "metadata": {
        "id": "J7UsEEurH7Fe"
      },
      "source": [
        "def load_and_clean_all_data(cropped_data_folder, author_data_folder, hz=1/30):\n",
        "    \"\"\"\n",
        "    Create a list of all subjects, then for each subject, create a dataframe of all the sensor data for that subject.\n",
        "    Then join this dataframe created for each subject into one big dataframe\n",
        "    \"\"\"\n",
        "\n",
        "    # create a list of all the subject_ids\n",
        "    subject_ids = load_subject_ids(cropped_data_folder)\n",
        "    \n",
        "    all_data_df = pd.DataFrame()\n",
        "\n",
        "    # iterate through the subject_ids and load and clean its data\n",
        "    for subject_id in tqdm(subject_ids):\n",
        "\n",
        "        final_df = load_and_preprocess_data(cropped_data_folder, author_data_folder, subject_id, hz=hz)\n",
        "\n",
        "        # Drop the 'sleep_label' column as we will proceed with the 'psg_label' column used by the author\n",
        "        #final_df = df.drop(columns=[\"sleep_label\"])\n",
        "\n",
        "        # Add a subject_id column to this dataframe\n",
        "        final_df[\"subject_id\"] = subject_id\n",
        "\n",
        "        all_data_df = pd.concat([all_data_df, final_df], axis=0)\n",
        "\n",
        "        # output this dataframe to a csv in the above created output directory\n",
        "        # df.to_csv(os.path.join(output_folder, f\"{subject}.csv\"), index=False)\n",
        "\n",
        "    return all_data_df.reset_index(drop=True)"
      ],
      "execution_count": null,
      "outputs": []
    },
    {
      "cell_type": "markdown",
      "metadata": {
        "id": "me3R8Xh1itLU"
      },
      "source": [
        "### Load, clean and join the data for each subject"
      ]
    },
    {
      "cell_type": "markdown",
      "metadata": {
        "id": "Uj3UEnd-oAo5"
      },
      "source": [
        "We chose to have one row for each 30 seconds of data"
      ]
    },
    {
      "cell_type": "code",
      "metadata": {
        "colab": {
          "base_uri": "https://localhost:8080/",
          "height": 66,
          "referenced_widgets": [
            "341036acf87d4b56b0bbaf7f8c66f747",
            "485c5140b6bf48658810c8779c74e229",
            "ebc933df127b4529bc418b3cd22af2ea",
            "933b59cf285142bb888d454e9cb5b595",
            "0fe810b31c724f93b2855f4ff9f1b6c1",
            "8932585d31a34e5f987b49af1857e831",
            "d02cb85978634c9b827b997fad499f62",
            "f5a787830e6b4ece844ee931640804f9"
          ]
        },
        "id": "E5G9D8ZqFpRx",
        "outputId": "cb5f716b-18f7-4f8d-b2d5-0317a3bc19b7"
      },
      "source": [
        "all_subjects_data_df = load_and_clean_all_data('./cropped', './author_features', hz=1/30)"
      ],
      "execution_count": null,
      "outputs": [
        {
          "output_type": "display_data",
          "data": {
            "application/vnd.jupyter.widget-view+json": {
              "model_id": "341036acf87d4b56b0bbaf7f8c66f747",
              "version_minor": 0,
              "version_major": 2
            },
            "text/plain": [
              "HBox(children=(FloatProgress(value=0.0, max=31.0), HTML(value='')))"
            ]
          },
          "metadata": {
            "tags": []
          }
        },
        {
          "output_type": "stream",
          "text": [
            "\n"
          ],
          "name": "stdout"
        }
      ]
    },
    {
      "cell_type": "code",
      "metadata": {
        "id": "J4eVxDCljsWi",
        "colab": {
          "base_uri": "https://localhost:8080/"
        },
        "outputId": "c44f48ce-0557-455a-ad68-8015192a4078"
      },
      "source": [
        "all_subjects_data_df.shape"
      ],
      "execution_count": null,
      "outputs": [
        {
          "output_type": "execute_result",
          "data": {
            "text/plain": [
              "(25837, 13)"
            ]
          },
          "metadata": {
            "tags": []
          },
          "execution_count": 14
        }
      ]
    },
    {
      "cell_type": "code",
      "metadata": {
        "colab": {
          "base_uri": "https://localhost:8080/",
          "height": 197
        },
        "id": "mTPMjibDwc_s",
        "outputId": "a01cbb50-8ee5-4594-9dde-8d38c13a04cd"
      },
      "source": [
        "all_subjects_data_df.head()"
      ],
      "execution_count": null,
      "outputs": [
        {
          "output_type": "execute_result",
          "data": {
            "text/html": [
              "<div>\n",
              "<style scoped>\n",
              "    .dataframe tbody tr th:only-of-type {\n",
              "        vertical-align: middle;\n",
              "    }\n",
              "\n",
              "    .dataframe tbody tr th {\n",
              "        vertical-align: top;\n",
              "    }\n",
              "\n",
              "    .dataframe thead th {\n",
              "        text-align: right;\n",
              "    }\n",
              "</style>\n",
              "<table border=\"1\" class=\"dataframe\">\n",
              "  <thead>\n",
              "    <tr style=\"text-align: right;\">\n",
              "      <th></th>\n",
              "      <th>time</th>\n",
              "      <th>heart_rate</th>\n",
              "      <th>x_motion</th>\n",
              "      <th>y_motion</th>\n",
              "      <th>z_motion</th>\n",
              "      <th>step_count</th>\n",
              "      <th>sleep_label</th>\n",
              "      <th>time_feature</th>\n",
              "      <th>heart_rate_feature</th>\n",
              "      <th>count_feature</th>\n",
              "      <th>cosine_feature</th>\n",
              "      <th>psg_label</th>\n",
              "      <th>subject_id</th>\n",
              "    </tr>\n",
              "  </thead>\n",
              "  <tbody>\n",
              "    <tr>\n",
              "      <th>0</th>\n",
              "      <td>1970-01-01 00:00:00</td>\n",
              "      <td>90.0</td>\n",
              "      <td>-0.559524</td>\n",
              "      <td>0.690460</td>\n",
              "      <td>-0.220322</td>\n",
              "      <td>102.845</td>\n",
              "      <td>0</td>\n",
              "      <td>0.000000</td>\n",
              "      <td>0.524519</td>\n",
              "      <td>38.634412</td>\n",
              "      <td>-0.258819</td>\n",
              "      <td>0</td>\n",
              "      <td>46343</td>\n",
              "    </tr>\n",
              "    <tr>\n",
              "      <th>1</th>\n",
              "      <td>1970-01-01 00:00:30</td>\n",
              "      <td>101.0</td>\n",
              "      <td>-0.631027</td>\n",
              "      <td>0.672783</td>\n",
              "      <td>-0.314140</td>\n",
              "      <td>58.330</td>\n",
              "      <td>0</td>\n",
              "      <td>0.008333</td>\n",
              "      <td>0.514774</td>\n",
              "      <td>31.640606</td>\n",
              "      <td>-0.260926</td>\n",
              "      <td>0</td>\n",
              "      <td>46343</td>\n",
              "    </tr>\n",
              "    <tr>\n",
              "      <th>2</th>\n",
              "      <td>1970-01-01 00:01:00</td>\n",
              "      <td>92.0</td>\n",
              "      <td>-0.115539</td>\n",
              "      <td>0.853889</td>\n",
              "      <td>0.774826</td>\n",
              "      <td>12.280</td>\n",
              "      <td>0</td>\n",
              "      <td>0.016667</td>\n",
              "      <td>0.497230</td>\n",
              "      <td>22.570999</td>\n",
              "      <td>-0.263031</td>\n",
              "      <td>0</td>\n",
              "      <td>46343</td>\n",
              "    </tr>\n",
              "    <tr>\n",
              "      <th>3</th>\n",
              "      <td>1970-01-01 00:01:30</td>\n",
              "      <td>82.0</td>\n",
              "      <td>-0.345749</td>\n",
              "      <td>-0.284614</td>\n",
              "      <td>0.888367</td>\n",
              "      <td>0.000</td>\n",
              "      <td>0</td>\n",
              "      <td>0.025000</td>\n",
              "      <td>0.489079</td>\n",
              "      <td>19.341522</td>\n",
              "      <td>-0.265135</td>\n",
              "      <td>0</td>\n",
              "      <td>46343</td>\n",
              "    </tr>\n",
              "    <tr>\n",
              "      <th>4</th>\n",
              "      <td>1970-01-01 00:02:00</td>\n",
              "      <td>83.0</td>\n",
              "      <td>-0.315613</td>\n",
              "      <td>-0.276604</td>\n",
              "      <td>0.906998</td>\n",
              "      <td>0.000</td>\n",
              "      <td>0</td>\n",
              "      <td>0.033333</td>\n",
              "      <td>0.482398</td>\n",
              "      <td>21.960207</td>\n",
              "      <td>-0.267238</td>\n",
              "      <td>0</td>\n",
              "      <td>46343</td>\n",
              "    </tr>\n",
              "  </tbody>\n",
              "</table>\n",
              "</div>"
            ],
            "text/plain": [
              "                 time  heart_rate  x_motion  y_motion  z_motion  step_count  \\\n",
              "0 1970-01-01 00:00:00        90.0 -0.559524  0.690460 -0.220322     102.845   \n",
              "1 1970-01-01 00:00:30       101.0 -0.631027  0.672783 -0.314140      58.330   \n",
              "2 1970-01-01 00:01:00        92.0 -0.115539  0.853889  0.774826      12.280   \n",
              "3 1970-01-01 00:01:30        82.0 -0.345749 -0.284614  0.888367       0.000   \n",
              "4 1970-01-01 00:02:00        83.0 -0.315613 -0.276604  0.906998       0.000   \n",
              "\n",
              "   sleep_label  time_feature  heart_rate_feature  count_feature  \\\n",
              "0            0      0.000000            0.524519      38.634412   \n",
              "1            0      0.008333            0.514774      31.640606   \n",
              "2            0      0.016667            0.497230      22.570999   \n",
              "3            0      0.025000            0.489079      19.341522   \n",
              "4            0      0.033333            0.482398      21.960207   \n",
              "\n",
              "   cosine_feature  psg_label  subject_id  \n",
              "0       -0.258819          0       46343  \n",
              "1       -0.260926          0       46343  \n",
              "2       -0.263031          0       46343  \n",
              "3       -0.265135          0       46343  \n",
              "4       -0.267238          0       46343  "
            ]
          },
          "metadata": {
            "tags": []
          },
          "execution_count": 15
        }
      ]
    },
    {
      "cell_type": "markdown",
      "metadata": {
        "id": "sANslYgNISo6"
      },
      "source": [
        "### Fix the time column - change it to an integer"
      ]
    },
    {
      "cell_type": "code",
      "metadata": {
        "id": "6ChXUdNBIYAT"
      },
      "source": [
        "all_subjects_data_df['time'] = all_subjects_data_df['time'].astype(int)"
      ],
      "execution_count": null,
      "outputs": []
    },
    {
      "cell_type": "code",
      "metadata": {
        "colab": {
          "base_uri": "https://localhost:8080/",
          "height": 197
        },
        "id": "IqKf1a5CJ92Q",
        "outputId": "972620af-0475-48fb-ce36-12607cd725f1"
      },
      "source": [
        "all_subjects_data_df.head()"
      ],
      "execution_count": null,
      "outputs": [
        {
          "output_type": "execute_result",
          "data": {
            "text/html": [
              "<div>\n",
              "<style scoped>\n",
              "    .dataframe tbody tr th:only-of-type {\n",
              "        vertical-align: middle;\n",
              "    }\n",
              "\n",
              "    .dataframe tbody tr th {\n",
              "        vertical-align: top;\n",
              "    }\n",
              "\n",
              "    .dataframe thead th {\n",
              "        text-align: right;\n",
              "    }\n",
              "</style>\n",
              "<table border=\"1\" class=\"dataframe\">\n",
              "  <thead>\n",
              "    <tr style=\"text-align: right;\">\n",
              "      <th></th>\n",
              "      <th>time</th>\n",
              "      <th>heart_rate</th>\n",
              "      <th>x_motion</th>\n",
              "      <th>y_motion</th>\n",
              "      <th>z_motion</th>\n",
              "      <th>step_count</th>\n",
              "      <th>sleep_label</th>\n",
              "      <th>time_feature</th>\n",
              "      <th>heart_rate_feature</th>\n",
              "      <th>count_feature</th>\n",
              "      <th>cosine_feature</th>\n",
              "      <th>psg_label</th>\n",
              "      <th>subject_id</th>\n",
              "    </tr>\n",
              "  </thead>\n",
              "  <tbody>\n",
              "    <tr>\n",
              "      <th>0</th>\n",
              "      <td>0</td>\n",
              "      <td>90.0</td>\n",
              "      <td>-0.559524</td>\n",
              "      <td>0.690460</td>\n",
              "      <td>-0.220322</td>\n",
              "      <td>102.845</td>\n",
              "      <td>0</td>\n",
              "      <td>0.000000</td>\n",
              "      <td>0.524519</td>\n",
              "      <td>38.634412</td>\n",
              "      <td>-0.258819</td>\n",
              "      <td>0</td>\n",
              "      <td>46343</td>\n",
              "    </tr>\n",
              "    <tr>\n",
              "      <th>1</th>\n",
              "      <td>30000000000</td>\n",
              "      <td>101.0</td>\n",
              "      <td>-0.631027</td>\n",
              "      <td>0.672783</td>\n",
              "      <td>-0.314140</td>\n",
              "      <td>58.330</td>\n",
              "      <td>0</td>\n",
              "      <td>0.008333</td>\n",
              "      <td>0.514774</td>\n",
              "      <td>31.640606</td>\n",
              "      <td>-0.260926</td>\n",
              "      <td>0</td>\n",
              "      <td>46343</td>\n",
              "    </tr>\n",
              "    <tr>\n",
              "      <th>2</th>\n",
              "      <td>60000000000</td>\n",
              "      <td>92.0</td>\n",
              "      <td>-0.115539</td>\n",
              "      <td>0.853889</td>\n",
              "      <td>0.774826</td>\n",
              "      <td>12.280</td>\n",
              "      <td>0</td>\n",
              "      <td>0.016667</td>\n",
              "      <td>0.497230</td>\n",
              "      <td>22.570999</td>\n",
              "      <td>-0.263031</td>\n",
              "      <td>0</td>\n",
              "      <td>46343</td>\n",
              "    </tr>\n",
              "    <tr>\n",
              "      <th>3</th>\n",
              "      <td>90000000000</td>\n",
              "      <td>82.0</td>\n",
              "      <td>-0.345749</td>\n",
              "      <td>-0.284614</td>\n",
              "      <td>0.888367</td>\n",
              "      <td>0.000</td>\n",
              "      <td>0</td>\n",
              "      <td>0.025000</td>\n",
              "      <td>0.489079</td>\n",
              "      <td>19.341522</td>\n",
              "      <td>-0.265135</td>\n",
              "      <td>0</td>\n",
              "      <td>46343</td>\n",
              "    </tr>\n",
              "    <tr>\n",
              "      <th>4</th>\n",
              "      <td>120000000000</td>\n",
              "      <td>83.0</td>\n",
              "      <td>-0.315613</td>\n",
              "      <td>-0.276604</td>\n",
              "      <td>0.906998</td>\n",
              "      <td>0.000</td>\n",
              "      <td>0</td>\n",
              "      <td>0.033333</td>\n",
              "      <td>0.482398</td>\n",
              "      <td>21.960207</td>\n",
              "      <td>-0.267238</td>\n",
              "      <td>0</td>\n",
              "      <td>46343</td>\n",
              "    </tr>\n",
              "  </tbody>\n",
              "</table>\n",
              "</div>"
            ],
            "text/plain": [
              "           time  heart_rate  x_motion  y_motion  z_motion  step_count  \\\n",
              "0             0        90.0 -0.559524  0.690460 -0.220322     102.845   \n",
              "1   30000000000       101.0 -0.631027  0.672783 -0.314140      58.330   \n",
              "2   60000000000        92.0 -0.115539  0.853889  0.774826      12.280   \n",
              "3   90000000000        82.0 -0.345749 -0.284614  0.888367       0.000   \n",
              "4  120000000000        83.0 -0.315613 -0.276604  0.906998       0.000   \n",
              "\n",
              "   sleep_label  time_feature  heart_rate_feature  count_feature  \\\n",
              "0            0      0.000000            0.524519      38.634412   \n",
              "1            0      0.008333            0.514774      31.640606   \n",
              "2            0      0.016667            0.497230      22.570999   \n",
              "3            0      0.025000            0.489079      19.341522   \n",
              "4            0      0.033333            0.482398      21.960207   \n",
              "\n",
              "   cosine_feature  psg_label  subject_id  \n",
              "0       -0.258819          0       46343  \n",
              "1       -0.260926          0       46343  \n",
              "2       -0.263031          0       46343  \n",
              "3       -0.265135          0       46343  \n",
              "4       -0.267238          0       46343  "
            ]
          },
          "metadata": {
            "tags": []
          },
          "execution_count": 44
        }
      ]
    },
    {
      "cell_type": "markdown",
      "metadata": {
        "id": "vETkLlxOvF8o"
      },
      "source": [
        "---\n",
        "---\n",
        "\n",
        "# 4. Split the data into a Train, Test and Validation set\n",
        "\n",
        "---\n",
        "---"
      ]
    },
    {
      "cell_type": "markdown",
      "metadata": {
        "id": "stEKkungvjrD"
      },
      "source": [
        "### Define the function to split the data"
      ]
    },
    {
      "cell_type": "code",
      "metadata": {
        "id": "SHTiiedjBx2x"
      },
      "source": [
        "def split_data(df, train=0.7, val=0.2):\n",
        "    \"\"\"\n",
        "    Split the data into a train, test and validation set\n",
        "    \"\"\"\n",
        "\n",
        "    num_rows = len(df)\n",
        "    val_start = int(num_rows * train)\n",
        "    test_start = int(num_rows * (train + val))\n",
        "\n",
        "    train_df = df[:val_start]\n",
        "    val_df = df[val_start:test_start]\n",
        "    test_df = df[test_start:]\n",
        "\n",
        "    return train_df, val_df, test_df"
      ],
      "execution_count": null,
      "outputs": []
    },
    {
      "cell_type": "markdown",
      "metadata": {
        "id": "lCiQqT3fvrdG"
      },
      "source": [
        "### Split the data"
      ]
    },
    {
      "cell_type": "code",
      "metadata": {
        "id": "eFWV9knW6w9v"
      },
      "source": [
        "train_df, val_df, test_df = split_data(all_subjects_data_df, 0.7, 0.2)"
      ],
      "execution_count": null,
      "outputs": []
    },
    {
      "cell_type": "code",
      "metadata": {
        "colab": {
          "base_uri": "https://localhost:8080/"
        },
        "id": "CFxzvzTqP59b",
        "outputId": "799f2438-4123-4d8f-864d-7656df078c98"
      },
      "source": [
        "print(train_df.shape)\n",
        "print(val_df.shape)\n",
        "print(test_df.shape)"
      ],
      "execution_count": null,
      "outputs": [
        {
          "output_type": "stream",
          "text": [
            "(18085, 13)\n",
            "(5168, 13)\n",
            "(2584, 13)\n"
          ],
          "name": "stdout"
        }
      ]
    },
    {
      "cell_type": "markdown",
      "metadata": {
        "id": "LRmustQU1pyA"
      },
      "source": [
        "---\n",
        "---\n",
        "\n",
        "# 6. Standardise all the data\n",
        "\n",
        "---\n",
        "---"
      ]
    },
    {
      "cell_type": "markdown",
      "metadata": {
        "id": "15wg8hcFF8mW"
      },
      "source": [
        "### Standardise the train, validation, test and full dataframes"
      ]
    },
    {
      "cell_type": "code",
      "metadata": {
        "id": "ldDWaEmmCsUI"
      },
      "source": [
        "def standardise(df_to_be_standardised, columns, mean=None, std=None):\n",
        "\n",
        "    # make a copy of the dataframe so we dont overwrite it\n",
        "    df = df_to_be_standardised.copy()\n",
        "\n",
        "    # standardise columns in-place\n",
        "    if mean is None or std is None:\n",
        "        mean = df[columns].mean()\n",
        "        std = df[columns].std()\n",
        "\n",
        "    df[columns] = (df[columns] - mean) / std\n",
        "\n",
        "    return df, mean, std"
      ],
      "execution_count": null,
      "outputs": []
    },
    {
      "cell_type": "code",
      "metadata": {
        "colab": {
          "base_uri": "https://localhost:8080/"
        },
        "id": "BVtwb7FUpZ9Z",
        "outputId": "26f21e40-488a-475e-f6bb-3fa1ec933f0b"
      },
      "source": [
        "# Only standardise feature columns\n",
        "input_cols = train_df.drop(columns=['sleep_label', 'psg_label', 'subject_id']).columns\n",
        "\n",
        "std_train_df, train_mean, train_std = standardise(train_df, input_cols)\n",
        "std_val_df, _, _ = standardise(val_df, input_cols, train_mean, train_std)\n",
        "std_test_df, _, _ = standardise(test_df, input_cols, train_mean, train_std)\n",
        "std_full_df, _, _ = standardise(all_subjects_data_df, input_cols, train_mean, train_std)\n",
        "\n",
        "print(\"Mean:\")\n",
        "print(train_mean)\n",
        "print(\"Standard Deviation:\")\n",
        "print(train_std)"
      ],
      "execution_count": null,
      "outputs": [
        {
          "output_type": "stream",
          "text": [
            "Mean:\n",
            "time                  1.296487e+13\n",
            "heart_rate            6.413870e+01\n",
            "x_motion             -1.133552e-01\n",
            "y_motion             -1.228230e-01\n",
            "z_motion             -3.895808e-01\n",
            "step_count            1.813057e+00\n",
            "time_feature          3.601353e+00\n",
            "heart_rate_feature    3.646799e-01\n",
            "count_feature         1.718910e+00\n",
            "cosine_feature       -7.780936e-01\n",
            "dtype: float64\n",
            "Standard Deviation:\n",
            "time                  8.094516e+12\n",
            "heart_rate            1.103747e+01\n",
            "x_motion              3.421223e-01\n",
            "y_motion              4.934719e-01\n",
            "z_motion              6.740018e-01\n",
            "step_count            1.173729e+01\n",
            "time_feature          2.248477e+00\n",
            "heart_rate_feature    3.325092e-01\n",
            "count_feature         6.674443e+00\n",
            "cosine_feature        2.117324e-01\n",
            "dtype: float64\n"
          ],
          "name": "stdout"
        }
      ]
    },
    {
      "cell_type": "markdown",
      "metadata": {
        "id": "Usmr-BMRv8hk"
      },
      "source": [
        "### Look at these standardised dataframes"
      ]
    },
    {
      "cell_type": "code",
      "metadata": {
        "colab": {
          "base_uri": "https://localhost:8080/",
          "height": 197
        },
        "id": "eloiq4H2I8g1",
        "outputId": "1d5c6730-6b0c-4c83-f1f4-e7f3e1feee64"
      },
      "source": [
        "std_train_df.head()"
      ],
      "execution_count": null,
      "outputs": [
        {
          "output_type": "execute_result",
          "data": {
            "text/html": [
              "<div>\n",
              "<style scoped>\n",
              "    .dataframe tbody tr th:only-of-type {\n",
              "        vertical-align: middle;\n",
              "    }\n",
              "\n",
              "    .dataframe tbody tr th {\n",
              "        vertical-align: top;\n",
              "    }\n",
              "\n",
              "    .dataframe thead th {\n",
              "        text-align: right;\n",
              "    }\n",
              "</style>\n",
              "<table border=\"1\" class=\"dataframe\">\n",
              "  <thead>\n",
              "    <tr style=\"text-align: right;\">\n",
              "      <th></th>\n",
              "      <th>time</th>\n",
              "      <th>heart_rate</th>\n",
              "      <th>x_motion</th>\n",
              "      <th>y_motion</th>\n",
              "      <th>z_motion</th>\n",
              "      <th>step_count</th>\n",
              "      <th>sleep_label</th>\n",
              "      <th>time_feature</th>\n",
              "      <th>heart_rate_feature</th>\n",
              "      <th>count_feature</th>\n",
              "      <th>cosine_feature</th>\n",
              "      <th>psg_label</th>\n",
              "      <th>subject_id</th>\n",
              "    </tr>\n",
              "  </thead>\n",
              "  <tbody>\n",
              "    <tr>\n",
              "      <th>0</th>\n",
              "      <td>-1.601686</td>\n",
              "      <td>2.343046</td>\n",
              "      <td>-1.304122</td>\n",
              "      <td>1.648084</td>\n",
              "      <td>0.251126</td>\n",
              "      <td>8.607776</td>\n",
              "      <td>0</td>\n",
              "      <td>-1.601686</td>\n",
              "      <td>0.480706</td>\n",
              "      <td>5.530874</td>\n",
              "      <td>2.452504</td>\n",
              "      <td>0</td>\n",
              "      <td>46343</td>\n",
              "    </tr>\n",
              "    <tr>\n",
              "      <th>1</th>\n",
              "      <td>-1.597980</td>\n",
              "      <td>3.339652</td>\n",
              "      <td>-1.513119</td>\n",
              "      <td>1.612262</td>\n",
              "      <td>0.111929</td>\n",
              "      <td>4.815162</td>\n",
              "      <td>0</td>\n",
              "      <td>-1.597980</td>\n",
              "      <td>0.451398</td>\n",
              "      <td>4.483025</td>\n",
              "      <td>2.442553</td>\n",
              "      <td>0</td>\n",
              "      <td>46343</td>\n",
              "    </tr>\n",
              "    <tr>\n",
              "      <th>2</th>\n",
              "      <td>-1.594274</td>\n",
              "      <td>2.524247</td>\n",
              "      <td>-0.006384</td>\n",
              "      <td>1.979267</td>\n",
              "      <td>1.727603</td>\n",
              "      <td>0.891768</td>\n",
              "      <td>0</td>\n",
              "      <td>-1.594273</td>\n",
              "      <td>0.398636</td>\n",
              "      <td>3.124169</td>\n",
              "      <td>2.432611</td>\n",
              "      <td>0</td>\n",
              "      <td>46343</td>\n",
              "    </tr>\n",
              "    <tr>\n",
              "      <th>3</th>\n",
              "      <td>-1.590567</td>\n",
              "      <td>1.618243</td>\n",
              "      <td>-0.679271</td>\n",
              "      <td>-0.327864</td>\n",
              "      <td>1.896059</td>\n",
              "      <td>-0.154470</td>\n",
              "      <td>0</td>\n",
              "      <td>-1.590567</td>\n",
              "      <td>0.374122</td>\n",
              "      <td>2.640312</td>\n",
              "      <td>2.422674</td>\n",
              "      <td>0</td>\n",
              "      <td>46343</td>\n",
              "    </tr>\n",
              "    <tr>\n",
              "      <th>4</th>\n",
              "      <td>-1.586861</td>\n",
              "      <td>1.708843</td>\n",
              "      <td>-0.591184</td>\n",
              "      <td>-0.311630</td>\n",
              "      <td>1.923702</td>\n",
              "      <td>-0.154470</td>\n",
              "      <td>0</td>\n",
              "      <td>-1.586861</td>\n",
              "      <td>0.354029</td>\n",
              "      <td>3.032657</td>\n",
              "      <td>2.412742</td>\n",
              "      <td>0</td>\n",
              "      <td>46343</td>\n",
              "    </tr>\n",
              "  </tbody>\n",
              "</table>\n",
              "</div>"
            ],
            "text/plain": [
              "       time  heart_rate  x_motion  y_motion  z_motion  step_count  \\\n",
              "0 -1.601686    2.343046 -1.304122  1.648084  0.251126    8.607776   \n",
              "1 -1.597980    3.339652 -1.513119  1.612262  0.111929    4.815162   \n",
              "2 -1.594274    2.524247 -0.006384  1.979267  1.727603    0.891768   \n",
              "3 -1.590567    1.618243 -0.679271 -0.327864  1.896059   -0.154470   \n",
              "4 -1.586861    1.708843 -0.591184 -0.311630  1.923702   -0.154470   \n",
              "\n",
              "   sleep_label  time_feature  heart_rate_feature  count_feature  \\\n",
              "0            0     -1.601686            0.480706       5.530874   \n",
              "1            0     -1.597980            0.451398       4.483025   \n",
              "2            0     -1.594273            0.398636       3.124169   \n",
              "3            0     -1.590567            0.374122       2.640312   \n",
              "4            0     -1.586861            0.354029       3.032657   \n",
              "\n",
              "   cosine_feature  psg_label  subject_id  \n",
              "0        2.452504          0       46343  \n",
              "1        2.442553          0       46343  \n",
              "2        2.432611          0       46343  \n",
              "3        2.422674          0       46343  \n",
              "4        2.412742          0       46343  "
            ]
          },
          "metadata": {
            "tags": []
          },
          "execution_count": 49
        }
      ]
    },
    {
      "cell_type": "code",
      "metadata": {
        "colab": {
          "base_uri": "https://localhost:8080/",
          "height": 197
        },
        "id": "QvXlGBrPv0Y-",
        "outputId": "b728a95d-4b7e-413b-bdf5-8f2e7d156960"
      },
      "source": [
        "std_val_df.head()"
      ],
      "execution_count": null,
      "outputs": [
        {
          "output_type": "execute_result",
          "data": {
            "text/html": [
              "<div>\n",
              "<style scoped>\n",
              "    .dataframe tbody tr th:only-of-type {\n",
              "        vertical-align: middle;\n",
              "    }\n",
              "\n",
              "    .dataframe tbody tr th {\n",
              "        vertical-align: top;\n",
              "    }\n",
              "\n",
              "    .dataframe thead th {\n",
              "        text-align: right;\n",
              "    }\n",
              "</style>\n",
              "<table border=\"1\" class=\"dataframe\">\n",
              "  <thead>\n",
              "    <tr style=\"text-align: right;\">\n",
              "      <th></th>\n",
              "      <th>time</th>\n",
              "      <th>heart_rate</th>\n",
              "      <th>x_motion</th>\n",
              "      <th>y_motion</th>\n",
              "      <th>z_motion</th>\n",
              "      <th>step_count</th>\n",
              "      <th>sleep_label</th>\n",
              "      <th>time_feature</th>\n",
              "      <th>heart_rate_feature</th>\n",
              "      <th>count_feature</th>\n",
              "      <th>cosine_feature</th>\n",
              "      <th>psg_label</th>\n",
              "      <th>subject_id</th>\n",
              "    </tr>\n",
              "  </thead>\n",
              "  <tbody>\n",
              "    <tr>\n",
              "      <th>18085</th>\n",
              "      <td>0.577567</td>\n",
              "      <td>0.213935</td>\n",
              "      <td>-1.495124</td>\n",
              "      <td>0.498384</td>\n",
              "      <td>-0.562286</td>\n",
              "      <td>-0.15447</td>\n",
              "      <td>5</td>\n",
              "      <td>0.577567</td>\n",
              "      <td>0.192422</td>\n",
              "      <td>-0.257536</td>\n",
              "      <td>-1.046431</td>\n",
              "      <td>5</td>\n",
              "      <td>8000685</td>\n",
              "    </tr>\n",
              "    <tr>\n",
              "      <th>18086</th>\n",
              "      <td>0.581274</td>\n",
              "      <td>-0.012566</td>\n",
              "      <td>-1.500876</td>\n",
              "      <td>0.489463</td>\n",
              "      <td>-0.558278</td>\n",
              "      <td>-0.15447</td>\n",
              "      <td>5</td>\n",
              "      <td>0.581273</td>\n",
              "      <td>0.557916</td>\n",
              "      <td>-0.257536</td>\n",
              "      <td>-1.046691</td>\n",
              "      <td>5</td>\n",
              "      <td>8000685</td>\n",
              "    </tr>\n",
              "    <tr>\n",
              "      <th>18087</th>\n",
              "      <td>0.584980</td>\n",
              "      <td>0.757538</td>\n",
              "      <td>-1.497220</td>\n",
              "      <td>0.510753</td>\n",
              "      <td>-0.569202</td>\n",
              "      <td>-0.15447</td>\n",
              "      <td>5</td>\n",
              "      <td>0.584980</td>\n",
              "      <td>0.686721</td>\n",
              "      <td>-0.257536</td>\n",
              "      <td>-1.046927</td>\n",
              "      <td>5</td>\n",
              "      <td>8000685</td>\n",
              "    </tr>\n",
              "    <tr>\n",
              "      <th>18088</th>\n",
              "      <td>0.588686</td>\n",
              "      <td>0.576337</td>\n",
              "      <td>-1.516553</td>\n",
              "      <td>0.462067</td>\n",
              "      <td>-0.561459</td>\n",
              "      <td>-0.15447</td>\n",
              "      <td>5</td>\n",
              "      <td>0.588686</td>\n",
              "      <td>0.703659</td>\n",
              "      <td>-0.257536</td>\n",
              "      <td>-1.047140</td>\n",
              "      <td>5</td>\n",
              "      <td>8000685</td>\n",
              "    </tr>\n",
              "    <tr>\n",
              "      <th>18089</th>\n",
              "      <td>0.592392</td>\n",
              "      <td>-0.057866</td>\n",
              "      <td>-1.508682</td>\n",
              "      <td>0.465067</td>\n",
              "      <td>-0.560373</td>\n",
              "      <td>-0.15447</td>\n",
              "      <td>5</td>\n",
              "      <td>0.592392</td>\n",
              "      <td>0.704723</td>\n",
              "      <td>-0.257536</td>\n",
              "      <td>-1.047334</td>\n",
              "      <td>5</td>\n",
              "      <td>8000685</td>\n",
              "    </tr>\n",
              "  </tbody>\n",
              "</table>\n",
              "</div>"
            ],
            "text/plain": [
              "           time  heart_rate  x_motion  y_motion  z_motion  step_count  \\\n",
              "18085  0.577567    0.213935 -1.495124  0.498384 -0.562286    -0.15447   \n",
              "18086  0.581274   -0.012566 -1.500876  0.489463 -0.558278    -0.15447   \n",
              "18087  0.584980    0.757538 -1.497220  0.510753 -0.569202    -0.15447   \n",
              "18088  0.588686    0.576337 -1.516553  0.462067 -0.561459    -0.15447   \n",
              "18089  0.592392   -0.057866 -1.508682  0.465067 -0.560373    -0.15447   \n",
              "\n",
              "       sleep_label  time_feature  heart_rate_feature  count_feature  \\\n",
              "18085            5      0.577567            0.192422      -0.257536   \n",
              "18086            5      0.581273            0.557916      -0.257536   \n",
              "18087            5      0.584980            0.686721      -0.257536   \n",
              "18088            5      0.588686            0.703659      -0.257536   \n",
              "18089            5      0.592392            0.704723      -0.257536   \n",
              "\n",
              "       cosine_feature  psg_label  subject_id  \n",
              "18085       -1.046431          5     8000685  \n",
              "18086       -1.046691          5     8000685  \n",
              "18087       -1.046927          5     8000685  \n",
              "18088       -1.047140          5     8000685  \n",
              "18089       -1.047334          5     8000685  "
            ]
          },
          "metadata": {
            "tags": []
          },
          "execution_count": 50
        }
      ]
    },
    {
      "cell_type": "code",
      "metadata": {
        "colab": {
          "base_uri": "https://localhost:8080/",
          "height": 197
        },
        "id": "FmNDyUSLv4zk",
        "outputId": "dd4f966e-81f0-4043-eb4c-a8a69132d60b"
      },
      "source": [
        "std_test_df.head()"
      ],
      "execution_count": null,
      "outputs": [
        {
          "output_type": "execute_result",
          "data": {
            "text/html": [
              "<div>\n",
              "<style scoped>\n",
              "    .dataframe tbody tr th:only-of-type {\n",
              "        vertical-align: middle;\n",
              "    }\n",
              "\n",
              "    .dataframe tbody tr th {\n",
              "        vertical-align: top;\n",
              "    }\n",
              "\n",
              "    .dataframe thead th {\n",
              "        text-align: right;\n",
              "    }\n",
              "</style>\n",
              "<table border=\"1\" class=\"dataframe\">\n",
              "  <thead>\n",
              "    <tr style=\"text-align: right;\">\n",
              "      <th></th>\n",
              "      <th>time</th>\n",
              "      <th>heart_rate</th>\n",
              "      <th>x_motion</th>\n",
              "      <th>y_motion</th>\n",
              "      <th>z_motion</th>\n",
              "      <th>step_count</th>\n",
              "      <th>sleep_label</th>\n",
              "      <th>time_feature</th>\n",
              "      <th>heart_rate_feature</th>\n",
              "      <th>count_feature</th>\n",
              "      <th>cosine_feature</th>\n",
              "      <th>psg_label</th>\n",
              "      <th>subject_id</th>\n",
              "    </tr>\n",
              "  </thead>\n",
              "  <tbody>\n",
              "    <tr>\n",
              "      <th>23253</th>\n",
              "      <td>-1.471969</td>\n",
              "      <td>-0.284367</td>\n",
              "      <td>-1.286817</td>\n",
              "      <td>0.891131</td>\n",
              "      <td>-0.572212</td>\n",
              "      <td>-0.15447</td>\n",
              "      <td>2</td>\n",
              "      <td>-1.471968</td>\n",
              "      <td>-0.637137</td>\n",
              "      <td>-0.257536</td>\n",
              "      <td>2.108055</td>\n",
              "      <td>2</td>\n",
              "      <td>9106476</td>\n",
              "    </tr>\n",
              "    <tr>\n",
              "      <th>23254</th>\n",
              "      <td>-1.468262</td>\n",
              "      <td>0.032734</td>\n",
              "      <td>-1.286729</td>\n",
              "      <td>0.883695</td>\n",
              "      <td>-0.574001</td>\n",
              "      <td>-0.15447</td>\n",
              "      <td>2</td>\n",
              "      <td>-1.468262</td>\n",
              "      <td>-0.649877</td>\n",
              "      <td>-0.257536</td>\n",
              "      <td>2.098340</td>\n",
              "      <td>2</td>\n",
              "      <td>9106476</td>\n",
              "    </tr>\n",
              "    <tr>\n",
              "      <th>23255</th>\n",
              "      <td>-1.464556</td>\n",
              "      <td>-0.103166</td>\n",
              "      <td>-1.291255</td>\n",
              "      <td>0.895584</td>\n",
              "      <td>-0.569009</td>\n",
              "      <td>-0.15447</td>\n",
              "      <td>3</td>\n",
              "      <td>-1.464556</td>\n",
              "      <td>-0.685912</td>\n",
              "      <td>-0.257536</td>\n",
              "      <td>2.088630</td>\n",
              "      <td>3</td>\n",
              "      <td>9106476</td>\n",
              "    </tr>\n",
              "    <tr>\n",
              "      <th>23256</th>\n",
              "      <td>-1.460850</td>\n",
              "      <td>-0.012566</td>\n",
              "      <td>-1.279770</td>\n",
              "      <td>0.894115</td>\n",
              "      <td>-0.570333</td>\n",
              "      <td>-0.15447</td>\n",
              "      <td>3</td>\n",
              "      <td>-1.460850</td>\n",
              "      <td>-0.700504</td>\n",
              "      <td>-0.257536</td>\n",
              "      <td>2.078929</td>\n",
              "      <td>3</td>\n",
              "      <td>9106476</td>\n",
              "    </tr>\n",
              "    <tr>\n",
              "      <th>23257</th>\n",
              "      <td>-1.457144</td>\n",
              "      <td>0.078035</td>\n",
              "      <td>-1.286973</td>\n",
              "      <td>0.885210</td>\n",
              "      <td>-0.568240</td>\n",
              "      <td>-0.15447</td>\n",
              "      <td>2</td>\n",
              "      <td>-1.457144</td>\n",
              "      <td>-0.709255</td>\n",
              "      <td>-0.257536</td>\n",
              "      <td>2.069237</td>\n",
              "      <td>2</td>\n",
              "      <td>9106476</td>\n",
              "    </tr>\n",
              "  </tbody>\n",
              "</table>\n",
              "</div>"
            ],
            "text/plain": [
              "           time  heart_rate  x_motion  y_motion  z_motion  step_count  \\\n",
              "23253 -1.471969   -0.284367 -1.286817  0.891131 -0.572212    -0.15447   \n",
              "23254 -1.468262    0.032734 -1.286729  0.883695 -0.574001    -0.15447   \n",
              "23255 -1.464556   -0.103166 -1.291255  0.895584 -0.569009    -0.15447   \n",
              "23256 -1.460850   -0.012566 -1.279770  0.894115 -0.570333    -0.15447   \n",
              "23257 -1.457144    0.078035 -1.286973  0.885210 -0.568240    -0.15447   \n",
              "\n",
              "       sleep_label  time_feature  heart_rate_feature  count_feature  \\\n",
              "23253            2     -1.471968           -0.637137      -0.257536   \n",
              "23254            2     -1.468262           -0.649877      -0.257536   \n",
              "23255            3     -1.464556           -0.685912      -0.257536   \n",
              "23256            3     -1.460850           -0.700504      -0.257536   \n",
              "23257            2     -1.457144           -0.709255      -0.257536   \n",
              "\n",
              "       cosine_feature  psg_label  subject_id  \n",
              "23253        2.108055          2     9106476  \n",
              "23254        2.098340          2     9106476  \n",
              "23255        2.088630          3     9106476  \n",
              "23256        2.078929          3     9106476  \n",
              "23257        2.069237          2     9106476  "
            ]
          },
          "metadata": {
            "tags": []
          },
          "execution_count": 51
        }
      ]
    },
    {
      "cell_type": "code",
      "metadata": {
        "colab": {
          "base_uri": "https://localhost:8080/",
          "height": 197
        },
        "id": "3fufMb-_v42J",
        "outputId": "460b71fa-8dd4-4b4c-d478-9adb074bc1f0"
      },
      "source": [
        "std_full_df.head()"
      ],
      "execution_count": null,
      "outputs": [
        {
          "output_type": "execute_result",
          "data": {
            "text/html": [
              "<div>\n",
              "<style scoped>\n",
              "    .dataframe tbody tr th:only-of-type {\n",
              "        vertical-align: middle;\n",
              "    }\n",
              "\n",
              "    .dataframe tbody tr th {\n",
              "        vertical-align: top;\n",
              "    }\n",
              "\n",
              "    .dataframe thead th {\n",
              "        text-align: right;\n",
              "    }\n",
              "</style>\n",
              "<table border=\"1\" class=\"dataframe\">\n",
              "  <thead>\n",
              "    <tr style=\"text-align: right;\">\n",
              "      <th></th>\n",
              "      <th>time</th>\n",
              "      <th>heart_rate</th>\n",
              "      <th>x_motion</th>\n",
              "      <th>y_motion</th>\n",
              "      <th>z_motion</th>\n",
              "      <th>step_count</th>\n",
              "      <th>sleep_label</th>\n",
              "      <th>time_feature</th>\n",
              "      <th>heart_rate_feature</th>\n",
              "      <th>count_feature</th>\n",
              "      <th>cosine_feature</th>\n",
              "      <th>psg_label</th>\n",
              "      <th>subject_id</th>\n",
              "    </tr>\n",
              "  </thead>\n",
              "  <tbody>\n",
              "    <tr>\n",
              "      <th>0</th>\n",
              "      <td>-1.601686</td>\n",
              "      <td>2.343046</td>\n",
              "      <td>-1.304122</td>\n",
              "      <td>1.648084</td>\n",
              "      <td>0.251126</td>\n",
              "      <td>8.607776</td>\n",
              "      <td>0</td>\n",
              "      <td>-1.601686</td>\n",
              "      <td>0.480706</td>\n",
              "      <td>5.530874</td>\n",
              "      <td>2.452504</td>\n",
              "      <td>0</td>\n",
              "      <td>46343</td>\n",
              "    </tr>\n",
              "    <tr>\n",
              "      <th>1</th>\n",
              "      <td>-1.597980</td>\n",
              "      <td>3.339652</td>\n",
              "      <td>-1.513119</td>\n",
              "      <td>1.612262</td>\n",
              "      <td>0.111929</td>\n",
              "      <td>4.815162</td>\n",
              "      <td>0</td>\n",
              "      <td>-1.597980</td>\n",
              "      <td>0.451398</td>\n",
              "      <td>4.483025</td>\n",
              "      <td>2.442553</td>\n",
              "      <td>0</td>\n",
              "      <td>46343</td>\n",
              "    </tr>\n",
              "    <tr>\n",
              "      <th>2</th>\n",
              "      <td>-1.594274</td>\n",
              "      <td>2.524247</td>\n",
              "      <td>-0.006384</td>\n",
              "      <td>1.979267</td>\n",
              "      <td>1.727603</td>\n",
              "      <td>0.891768</td>\n",
              "      <td>0</td>\n",
              "      <td>-1.594273</td>\n",
              "      <td>0.398636</td>\n",
              "      <td>3.124169</td>\n",
              "      <td>2.432611</td>\n",
              "      <td>0</td>\n",
              "      <td>46343</td>\n",
              "    </tr>\n",
              "    <tr>\n",
              "      <th>3</th>\n",
              "      <td>-1.590567</td>\n",
              "      <td>1.618243</td>\n",
              "      <td>-0.679271</td>\n",
              "      <td>-0.327864</td>\n",
              "      <td>1.896059</td>\n",
              "      <td>-0.154470</td>\n",
              "      <td>0</td>\n",
              "      <td>-1.590567</td>\n",
              "      <td>0.374122</td>\n",
              "      <td>2.640312</td>\n",
              "      <td>2.422674</td>\n",
              "      <td>0</td>\n",
              "      <td>46343</td>\n",
              "    </tr>\n",
              "    <tr>\n",
              "      <th>4</th>\n",
              "      <td>-1.586861</td>\n",
              "      <td>1.708843</td>\n",
              "      <td>-0.591184</td>\n",
              "      <td>-0.311630</td>\n",
              "      <td>1.923702</td>\n",
              "      <td>-0.154470</td>\n",
              "      <td>0</td>\n",
              "      <td>-1.586861</td>\n",
              "      <td>0.354029</td>\n",
              "      <td>3.032657</td>\n",
              "      <td>2.412742</td>\n",
              "      <td>0</td>\n",
              "      <td>46343</td>\n",
              "    </tr>\n",
              "  </tbody>\n",
              "</table>\n",
              "</div>"
            ],
            "text/plain": [
              "       time  heart_rate  x_motion  y_motion  z_motion  step_count  \\\n",
              "0 -1.601686    2.343046 -1.304122  1.648084  0.251126    8.607776   \n",
              "1 -1.597980    3.339652 -1.513119  1.612262  0.111929    4.815162   \n",
              "2 -1.594274    2.524247 -0.006384  1.979267  1.727603    0.891768   \n",
              "3 -1.590567    1.618243 -0.679271 -0.327864  1.896059   -0.154470   \n",
              "4 -1.586861    1.708843 -0.591184 -0.311630  1.923702   -0.154470   \n",
              "\n",
              "   sleep_label  time_feature  heart_rate_feature  count_feature  \\\n",
              "0            0     -1.601686            0.480706       5.530874   \n",
              "1            0     -1.597980            0.451398       4.483025   \n",
              "2            0     -1.594273            0.398636       3.124169   \n",
              "3            0     -1.590567            0.374122       2.640312   \n",
              "4            0     -1.586861            0.354029       3.032657   \n",
              "\n",
              "   cosine_feature  psg_label  subject_id  \n",
              "0        2.452504          0       46343  \n",
              "1        2.442553          0       46343  \n",
              "2        2.432611          0       46343  \n",
              "3        2.422674          0       46343  \n",
              "4        2.412742          0       46343  "
            ]
          },
          "metadata": {
            "tags": []
          },
          "execution_count": 52
        }
      ]
    },
    {
      "cell_type": "markdown",
      "metadata": {
        "id": "90QTFk8gwKEJ"
      },
      "source": [
        "### Look at the spread of the variables in the data"
      ]
    },
    {
      "cell_type": "code",
      "metadata": {
        "colab": {
          "base_uri": "https://localhost:8080/",
          "height": 388
        },
        "id": "gSU-uW-oG4n8",
        "outputId": "441b0cdc-7035-4d93-f5b0-1ca16483fdba"
      },
      "source": [
        "df_std = (all_subjects_data_df[input_cols] - train_mean) / train_std\n",
        "\n",
        "df_std = df_std.melt(var_name='Column', value_name='Normalized')\n",
        "\n",
        "plt.figure(figsize=(12, 6))\n",
        "\n",
        "ax = sns.violinplot(x='Column', y='Normalized', data=df_std)"
      ],
      "execution_count": null,
      "outputs": [
        {
          "output_type": "display_data",
          "data": {
            "image/png": "[encoded data removed]",
            "text/plain": [
              "<Figure size 864x432 with 1 Axes>"
            ]
          },
          "metadata": {
            "tags": [],
            "needs_background": "light"
          }
        }
      ]
    },
    {
      "cell_type": "markdown",
      "metadata": {
        "id": "xOFXkfCo1qkd"
      },
      "source": [
        "---\n",
        "---\n",
        "\n",
        "# 7. Output the standardised data\n",
        "\n",
        "---\n",
        "---"
      ]
    },
    {
      "cell_type": "markdown",
      "metadata": {
        "id": "4FdIv2ZJ0Q6i"
      },
      "source": [
        "Writing the train, validation and test set data to csv files"
      ]
    },
    {
      "cell_type": "code",
      "metadata": {
        "id": "rm3SofabGDXp"
      },
      "source": [
        "std_train_df.to_csv('std_1_train.csv', index=False)\n",
        "std_val_df.to_csv('std_1_val.csv', index=False)\n",
        "std_test_df.to_csv('std_1_test.csv', index=False)"
      ],
      "execution_count": null,
      "outputs": []
    },
    {
      "cell_type": "markdown",
      "metadata": {
        "id": "S_M1YExX0Y2E"
      },
      "source": [
        "Write the full data to a csv file"
      ]
    },
    {
      "cell_type": "code",
      "metadata": {
        "id": "yP2Cayia0ZVf"
      },
      "source": [
        "std_full_df.to_csv('std_1_full.csv', index=False)"
      ],
      "execution_count": null,
      "outputs": []
    },
    {
      "cell_type": "markdown",
      "metadata": {
        "id": "HBsvTuew7NVS"
      },
      "source": [
        "---\n",
        "---\n",
        "\n",
        "# 8. Standardise all the data except the time_feature\n",
        "\n",
        "---\n",
        "---"
      ]
    },
    {
      "cell_type": "markdown",
      "metadata": {
        "id": "__a_oOhN7NVS"
      },
      "source": [
        "### Standardise the train, validation, test and full dataframes"
      ]
    },
    {
      "cell_type": "code",
      "metadata": {
        "colab": {
          "base_uri": "https://localhost:8080/"
        },
        "id": "6P3bhjkw7NVW",
        "outputId": "f4fcc4c7-8e50-4dfa-e955-9428251c0a53"
      },
      "source": [
        "# Only standardise feature columns\n",
        "input_cols_2 = train_df.drop(columns=['time', 'time_feature', 'sleep_label', 'psg_label', 'subject_id']).columns\n",
        "\n",
        "std_2_train_df, train_mean_2, train_std_2 = standardise(train_df, input_cols_2)\n",
        "std_2_val_df, _, _ = standardise(val_df, input_cols_2, train_mean_2, train_std_2)\n",
        "std_2_test_df, _, _ = standardise(test_df, input_cols_2, train_mean_2, train_std_2)\n",
        "std_2_full_df, _, _ = standardise(all_subjects_data_df, input_cols_2, train_mean_2, train_std_2)\n",
        "\n",
        "print(\"Mean:\")\n",
        "print(train_mean_2)\n",
        "print(\"Standard Deviation:\")\n",
        "print(train_std_2)"
      ],
      "execution_count": null,
      "outputs": [
        {
          "output_type": "stream",
          "text": [
            "Mean:\n",
            "heart_rate            64.138695\n",
            "x_motion              -0.113355\n",
            "y_motion              -0.122823\n",
            "z_motion              -0.389581\n",
            "step_count             1.813057\n",
            "heart_rate_feature     0.364680\n",
            "count_feature          1.718910\n",
            "cosine_feature        -0.778094\n",
            "dtype: float64\n",
            "Standard Deviation:\n",
            "heart_rate            11.037470\n",
            "x_motion               0.342122\n",
            "y_motion               0.493472\n",
            "z_motion               0.674002\n",
            "step_count            11.737288\n",
            "heart_rate_feature     0.332509\n",
            "count_feature          6.674443\n",
            "cosine_feature         0.211732\n",
            "dtype: float64\n"
          ],
          "name": "stdout"
        }
      ]
    },
    {
      "cell_type": "markdown",
      "metadata": {
        "id": "3osiJlZJ7NVX"
      },
      "source": [
        "### Look at these standardised dataframes"
      ]
    },
    {
      "cell_type": "code",
      "metadata": {
        "colab": {
          "base_uri": "https://localhost:8080/",
          "height": 197
        },
        "id": "A0qY0FVw7NVX",
        "outputId": "b7546895-507b-4745-d651-4d0775936388"
      },
      "source": [
        "std_2_train_df.head()"
      ],
      "execution_count": null,
      "outputs": [
        {
          "output_type": "execute_result",
          "data": {
            "text/html": [
              "<div>\n",
              "<style scoped>\n",
              "    .dataframe tbody tr th:only-of-type {\n",
              "        vertical-align: middle;\n",
              "    }\n",
              "\n",
              "    .dataframe tbody tr th {\n",
              "        vertical-align: top;\n",
              "    }\n",
              "\n",
              "    .dataframe thead th {\n",
              "        text-align: right;\n",
              "    }\n",
              "</style>\n",
              "<table border=\"1\" class=\"dataframe\">\n",
              "  <thead>\n",
              "    <tr style=\"text-align: right;\">\n",
              "      <th></th>\n",
              "      <th>time</th>\n",
              "      <th>heart_rate</th>\n",
              "      <th>x_motion</th>\n",
              "      <th>y_motion</th>\n",
              "      <th>z_motion</th>\n",
              "      <th>step_count</th>\n",
              "      <th>sleep_label</th>\n",
              "      <th>time_feature</th>\n",
              "      <th>heart_rate_feature</th>\n",
              "      <th>count_feature</th>\n",
              "      <th>cosine_feature</th>\n",
              "      <th>psg_label</th>\n",
              "      <th>subject_id</th>\n",
              "    </tr>\n",
              "  </thead>\n",
              "  <tbody>\n",
              "    <tr>\n",
              "      <th>0</th>\n",
              "      <td>1970-01-01 00:00:00</td>\n",
              "      <td>2.343046</td>\n",
              "      <td>-1.304122</td>\n",
              "      <td>1.648084</td>\n",
              "      <td>0.251126</td>\n",
              "      <td>8.607776</td>\n",
              "      <td>0</td>\n",
              "      <td>0.000000</td>\n",
              "      <td>0.480706</td>\n",
              "      <td>5.530874</td>\n",
              "      <td>2.452504</td>\n",
              "      <td>0</td>\n",
              "      <td>46343</td>\n",
              "    </tr>\n",
              "    <tr>\n",
              "      <th>1</th>\n",
              "      <td>1970-01-01 00:00:30</td>\n",
              "      <td>3.339652</td>\n",
              "      <td>-1.513119</td>\n",
              "      <td>1.612262</td>\n",
              "      <td>0.111929</td>\n",
              "      <td>4.815162</td>\n",
              "      <td>0</td>\n",
              "      <td>0.008333</td>\n",
              "      <td>0.451398</td>\n",
              "      <td>4.483025</td>\n",
              "      <td>2.442553</td>\n",
              "      <td>0</td>\n",
              "      <td>46343</td>\n",
              "    </tr>\n",
              "    <tr>\n",
              "      <th>2</th>\n",
              "      <td>1970-01-01 00:01:00</td>\n",
              "      <td>2.524247</td>\n",
              "      <td>-0.006384</td>\n",
              "      <td>1.979267</td>\n",
              "      <td>1.727603</td>\n",
              "      <td>0.891768</td>\n",
              "      <td>0</td>\n",
              "      <td>0.016667</td>\n",
              "      <td>0.398636</td>\n",
              "      <td>3.124169</td>\n",
              "      <td>2.432611</td>\n",
              "      <td>0</td>\n",
              "      <td>46343</td>\n",
              "    </tr>\n",
              "    <tr>\n",
              "      <th>3</th>\n",
              "      <td>1970-01-01 00:01:30</td>\n",
              "      <td>1.618243</td>\n",
              "      <td>-0.679271</td>\n",
              "      <td>-0.327864</td>\n",
              "      <td>1.896059</td>\n",
              "      <td>-0.154470</td>\n",
              "      <td>0</td>\n",
              "      <td>0.025000</td>\n",
              "      <td>0.374122</td>\n",
              "      <td>2.640312</td>\n",
              "      <td>2.422674</td>\n",
              "      <td>0</td>\n",
              "      <td>46343</td>\n",
              "    </tr>\n",
              "    <tr>\n",
              "      <th>4</th>\n",
              "      <td>1970-01-01 00:02:00</td>\n",
              "      <td>1.708843</td>\n",
              "      <td>-0.591184</td>\n",
              "      <td>-0.311630</td>\n",
              "      <td>1.923702</td>\n",
              "      <td>-0.154470</td>\n",
              "      <td>0</td>\n",
              "      <td>0.033333</td>\n",
              "      <td>0.354029</td>\n",
              "      <td>3.032657</td>\n",
              "      <td>2.412742</td>\n",
              "      <td>0</td>\n",
              "      <td>46343</td>\n",
              "    </tr>\n",
              "  </tbody>\n",
              "</table>\n",
              "</div>"
            ],
            "text/plain": [
              "                 time  heart_rate  x_motion  y_motion  z_motion  step_count  \\\n",
              "0 1970-01-01 00:00:00    2.343046 -1.304122  1.648084  0.251126    8.607776   \n",
              "1 1970-01-01 00:00:30    3.339652 -1.513119  1.612262  0.111929    4.815162   \n",
              "2 1970-01-01 00:01:00    2.524247 -0.006384  1.979267  1.727603    0.891768   \n",
              "3 1970-01-01 00:01:30    1.618243 -0.679271 -0.327864  1.896059   -0.154470   \n",
              "4 1970-01-01 00:02:00    1.708843 -0.591184 -0.311630  1.923702   -0.154470   \n",
              "\n",
              "   sleep_label  time_feature  heart_rate_feature  count_feature  \\\n",
              "0            0      0.000000            0.480706       5.530874   \n",
              "1            0      0.008333            0.451398       4.483025   \n",
              "2            0      0.016667            0.398636       3.124169   \n",
              "3            0      0.025000            0.374122       2.640312   \n",
              "4            0      0.033333            0.354029       3.032657   \n",
              "\n",
              "   cosine_feature  psg_label  subject_id  \n",
              "0        2.452504          0       46343  \n",
              "1        2.442553          0       46343  \n",
              "2        2.432611          0       46343  \n",
              "3        2.422674          0       46343  \n",
              "4        2.412742          0       46343  "
            ]
          },
          "metadata": {
            "tags": []
          },
          "execution_count": 32
        }
      ]
    },
    {
      "cell_type": "code",
      "metadata": {
        "colab": {
          "base_uri": "https://localhost:8080/",
          "height": 197
        },
        "id": "7WYMKDw67NVX",
        "outputId": "bb96ba54-0fe8-4175-ffdc-4aa96b58eaa4"
      },
      "source": [
        "std_2_val_df.head()"
      ],
      "execution_count": null,
      "outputs": [
        {
          "output_type": "execute_result",
          "data": {
            "text/html": [
              "<div>\n",
              "<style scoped>\n",
              "    .dataframe tbody tr th:only-of-type {\n",
              "        vertical-align: middle;\n",
              "    }\n",
              "\n",
              "    .dataframe tbody tr th {\n",
              "        vertical-align: top;\n",
              "    }\n",
              "\n",
              "    .dataframe thead th {\n",
              "        text-align: right;\n",
              "    }\n",
              "</style>\n",
              "<table border=\"1\" class=\"dataframe\">\n",
              "  <thead>\n",
              "    <tr style=\"text-align: right;\">\n",
              "      <th></th>\n",
              "      <th>time</th>\n",
              "      <th>heart_rate</th>\n",
              "      <th>x_motion</th>\n",
              "      <th>y_motion</th>\n",
              "      <th>z_motion</th>\n",
              "      <th>step_count</th>\n",
              "      <th>sleep_label</th>\n",
              "      <th>time_feature</th>\n",
              "      <th>heart_rate_feature</th>\n",
              "      <th>count_feature</th>\n",
              "      <th>cosine_feature</th>\n",
              "      <th>psg_label</th>\n",
              "      <th>subject_id</th>\n",
              "    </tr>\n",
              "  </thead>\n",
              "  <tbody>\n",
              "    <tr>\n",
              "      <th>18085</th>\n",
              "      <td>1970-01-01 04:54:00</td>\n",
              "      <td>0.213935</td>\n",
              "      <td>-1.495124</td>\n",
              "      <td>0.498384</td>\n",
              "      <td>-0.562286</td>\n",
              "      <td>-0.15447</td>\n",
              "      <td>5</td>\n",
              "      <td>4.900000</td>\n",
              "      <td>0.192422</td>\n",
              "      <td>-0.257536</td>\n",
              "      <td>-1.046431</td>\n",
              "      <td>5</td>\n",
              "      <td>8000685</td>\n",
              "    </tr>\n",
              "    <tr>\n",
              "      <th>18086</th>\n",
              "      <td>1970-01-01 04:54:30</td>\n",
              "      <td>-0.012566</td>\n",
              "      <td>-1.500876</td>\n",
              "      <td>0.489463</td>\n",
              "      <td>-0.558278</td>\n",
              "      <td>-0.15447</td>\n",
              "      <td>5</td>\n",
              "      <td>4.908333</td>\n",
              "      <td>0.557916</td>\n",
              "      <td>-0.257536</td>\n",
              "      <td>-1.046691</td>\n",
              "      <td>5</td>\n",
              "      <td>8000685</td>\n",
              "    </tr>\n",
              "    <tr>\n",
              "      <th>18087</th>\n",
              "      <td>1970-01-01 04:55:00</td>\n",
              "      <td>0.757538</td>\n",
              "      <td>-1.497220</td>\n",
              "      <td>0.510753</td>\n",
              "      <td>-0.569202</td>\n",
              "      <td>-0.15447</td>\n",
              "      <td>5</td>\n",
              "      <td>4.916667</td>\n",
              "      <td>0.686721</td>\n",
              "      <td>-0.257536</td>\n",
              "      <td>-1.046927</td>\n",
              "      <td>5</td>\n",
              "      <td>8000685</td>\n",
              "    </tr>\n",
              "    <tr>\n",
              "      <th>18088</th>\n",
              "      <td>1970-01-01 04:55:30</td>\n",
              "      <td>0.576337</td>\n",
              "      <td>-1.516553</td>\n",
              "      <td>0.462067</td>\n",
              "      <td>-0.561459</td>\n",
              "      <td>-0.15447</td>\n",
              "      <td>5</td>\n",
              "      <td>4.925000</td>\n",
              "      <td>0.703659</td>\n",
              "      <td>-0.257536</td>\n",
              "      <td>-1.047140</td>\n",
              "      <td>5</td>\n",
              "      <td>8000685</td>\n",
              "    </tr>\n",
              "    <tr>\n",
              "      <th>18089</th>\n",
              "      <td>1970-01-01 04:56:00</td>\n",
              "      <td>-0.057866</td>\n",
              "      <td>-1.508682</td>\n",
              "      <td>0.465067</td>\n",
              "      <td>-0.560373</td>\n",
              "      <td>-0.15447</td>\n",
              "      <td>5</td>\n",
              "      <td>4.933333</td>\n",
              "      <td>0.704723</td>\n",
              "      <td>-0.257536</td>\n",
              "      <td>-1.047334</td>\n",
              "      <td>5</td>\n",
              "      <td>8000685</td>\n",
              "    </tr>\n",
              "  </tbody>\n",
              "</table>\n",
              "</div>"
            ],
            "text/plain": [
              "                     time  heart_rate  x_motion  y_motion  z_motion  \\\n",
              "18085 1970-01-01 04:54:00    0.213935 -1.495124  0.498384 -0.562286   \n",
              "18086 1970-01-01 04:54:30   -0.012566 -1.500876  0.489463 -0.558278   \n",
              "18087 1970-01-01 04:55:00    0.757538 -1.497220  0.510753 -0.569202   \n",
              "18088 1970-01-01 04:55:30    0.576337 -1.516553  0.462067 -0.561459   \n",
              "18089 1970-01-01 04:56:00   -0.057866 -1.508682  0.465067 -0.560373   \n",
              "\n",
              "       step_count  sleep_label  time_feature  heart_rate_feature  \\\n",
              "18085    -0.15447            5      4.900000            0.192422   \n",
              "18086    -0.15447            5      4.908333            0.557916   \n",
              "18087    -0.15447            5      4.916667            0.686721   \n",
              "18088    -0.15447            5      4.925000            0.703659   \n",
              "18089    -0.15447            5      4.933333            0.704723   \n",
              "\n",
              "       count_feature  cosine_feature  psg_label  subject_id  \n",
              "18085      -0.257536       -1.046431          5     8000685  \n",
              "18086      -0.257536       -1.046691          5     8000685  \n",
              "18087      -0.257536       -1.046927          5     8000685  \n",
              "18088      -0.257536       -1.047140          5     8000685  \n",
              "18089      -0.257536       -1.047334          5     8000685  "
            ]
          },
          "metadata": {
            "tags": []
          },
          "execution_count": 33
        }
      ]
    },
    {
      "cell_type": "code",
      "metadata": {
        "colab": {
          "base_uri": "https://localhost:8080/",
          "height": 197
        },
        "id": "SCa_PW8z7NVY",
        "outputId": "b5cd4237-6d00-4848-f1e8-624e5d8815fa"
      },
      "source": [
        "std_2_test_df.head()"
      ],
      "execution_count": null,
      "outputs": [
        {
          "output_type": "execute_result",
          "data": {
            "text/html": [
              "<div>\n",
              "<style scoped>\n",
              "    .dataframe tbody tr th:only-of-type {\n",
              "        vertical-align: middle;\n",
              "    }\n",
              "\n",
              "    .dataframe tbody tr th {\n",
              "        vertical-align: top;\n",
              "    }\n",
              "\n",
              "    .dataframe thead th {\n",
              "        text-align: right;\n",
              "    }\n",
              "</style>\n",
              "<table border=\"1\" class=\"dataframe\">\n",
              "  <thead>\n",
              "    <tr style=\"text-align: right;\">\n",
              "      <th></th>\n",
              "      <th>time</th>\n",
              "      <th>heart_rate</th>\n",
              "      <th>x_motion</th>\n",
              "      <th>y_motion</th>\n",
              "      <th>z_motion</th>\n",
              "      <th>step_count</th>\n",
              "      <th>sleep_label</th>\n",
              "      <th>time_feature</th>\n",
              "      <th>heart_rate_feature</th>\n",
              "      <th>count_feature</th>\n",
              "      <th>cosine_feature</th>\n",
              "      <th>psg_label</th>\n",
              "      <th>subject_id</th>\n",
              "    </tr>\n",
              "  </thead>\n",
              "  <tbody>\n",
              "    <tr>\n",
              "      <th>23253</th>\n",
              "      <td>1970-01-01 00:17:30</td>\n",
              "      <td>-0.284367</td>\n",
              "      <td>-1.286817</td>\n",
              "      <td>0.891131</td>\n",
              "      <td>-0.572212</td>\n",
              "      <td>-0.15447</td>\n",
              "      <td>2</td>\n",
              "      <td>0.291667</td>\n",
              "      <td>-0.637137</td>\n",
              "      <td>-0.257536</td>\n",
              "      <td>2.108055</td>\n",
              "      <td>2</td>\n",
              "      <td>9106476</td>\n",
              "    </tr>\n",
              "    <tr>\n",
              "      <th>23254</th>\n",
              "      <td>1970-01-01 00:18:00</td>\n",
              "      <td>0.032734</td>\n",
              "      <td>-1.286729</td>\n",
              "      <td>0.883695</td>\n",
              "      <td>-0.574001</td>\n",
              "      <td>-0.15447</td>\n",
              "      <td>2</td>\n",
              "      <td>0.300000</td>\n",
              "      <td>-0.649877</td>\n",
              "      <td>-0.257536</td>\n",
              "      <td>2.098340</td>\n",
              "      <td>2</td>\n",
              "      <td>9106476</td>\n",
              "    </tr>\n",
              "    <tr>\n",
              "      <th>23255</th>\n",
              "      <td>1970-01-01 00:18:30</td>\n",
              "      <td>-0.103166</td>\n",
              "      <td>-1.291255</td>\n",
              "      <td>0.895584</td>\n",
              "      <td>-0.569009</td>\n",
              "      <td>-0.15447</td>\n",
              "      <td>3</td>\n",
              "      <td>0.308333</td>\n",
              "      <td>-0.685912</td>\n",
              "      <td>-0.257536</td>\n",
              "      <td>2.088630</td>\n",
              "      <td>3</td>\n",
              "      <td>9106476</td>\n",
              "    </tr>\n",
              "    <tr>\n",
              "      <th>23256</th>\n",
              "      <td>1970-01-01 00:19:00</td>\n",
              "      <td>-0.012566</td>\n",
              "      <td>-1.279770</td>\n",
              "      <td>0.894115</td>\n",
              "      <td>-0.570333</td>\n",
              "      <td>-0.15447</td>\n",
              "      <td>3</td>\n",
              "      <td>0.316667</td>\n",
              "      <td>-0.700504</td>\n",
              "      <td>-0.257536</td>\n",
              "      <td>2.078929</td>\n",
              "      <td>3</td>\n",
              "      <td>9106476</td>\n",
              "    </tr>\n",
              "    <tr>\n",
              "      <th>23257</th>\n",
              "      <td>1970-01-01 00:19:30</td>\n",
              "      <td>0.078035</td>\n",
              "      <td>-1.286973</td>\n",
              "      <td>0.885210</td>\n",
              "      <td>-0.568240</td>\n",
              "      <td>-0.15447</td>\n",
              "      <td>2</td>\n",
              "      <td>0.325000</td>\n",
              "      <td>-0.709255</td>\n",
              "      <td>-0.257536</td>\n",
              "      <td>2.069237</td>\n",
              "      <td>2</td>\n",
              "      <td>9106476</td>\n",
              "    </tr>\n",
              "  </tbody>\n",
              "</table>\n",
              "</div>"
            ],
            "text/plain": [
              "                     time  heart_rate  x_motion  y_motion  z_motion  \\\n",
              "23253 1970-01-01 00:17:30   -0.284367 -1.286817  0.891131 -0.572212   \n",
              "23254 1970-01-01 00:18:00    0.032734 -1.286729  0.883695 -0.574001   \n",
              "23255 1970-01-01 00:18:30   -0.103166 -1.291255  0.895584 -0.569009   \n",
              "23256 1970-01-01 00:19:00   -0.012566 -1.279770  0.894115 -0.570333   \n",
              "23257 1970-01-01 00:19:30    0.078035 -1.286973  0.885210 -0.568240   \n",
              "\n",
              "       step_count  sleep_label  time_feature  heart_rate_feature  \\\n",
              "23253    -0.15447            2      0.291667           -0.637137   \n",
              "23254    -0.15447            2      0.300000           -0.649877   \n",
              "23255    -0.15447            3      0.308333           -0.685912   \n",
              "23256    -0.15447            3      0.316667           -0.700504   \n",
              "23257    -0.15447            2      0.325000           -0.709255   \n",
              "\n",
              "       count_feature  cosine_feature  psg_label  subject_id  \n",
              "23253      -0.257536        2.108055          2     9106476  \n",
              "23254      -0.257536        2.098340          2     9106476  \n",
              "23255      -0.257536        2.088630          3     9106476  \n",
              "23256      -0.257536        2.078929          3     9106476  \n",
              "23257      -0.257536        2.069237          2     9106476  "
            ]
          },
          "metadata": {
            "tags": []
          },
          "execution_count": 34
        }
      ]
    },
    {
      "cell_type": "code",
      "metadata": {
        "colab": {
          "base_uri": "https://localhost:8080/",
          "height": 197
        },
        "id": "unpNHID67NVY",
        "outputId": "e854a9d6-8a3f-4966-8d06-d42d8de67465"
      },
      "source": [
        "std_2_full_df.head()"
      ],
      "execution_count": null,
      "outputs": [
        {
          "output_type": "execute_result",
          "data": {
            "text/html": [
              "<div>\n",
              "<style scoped>\n",
              "    .dataframe tbody tr th:only-of-type {\n",
              "        vertical-align: middle;\n",
              "    }\n",
              "\n",
              "    .dataframe tbody tr th {\n",
              "        vertical-align: top;\n",
              "    }\n",
              "\n",
              "    .dataframe thead th {\n",
              "        text-align: right;\n",
              "    }\n",
              "</style>\n",
              "<table border=\"1\" class=\"dataframe\">\n",
              "  <thead>\n",
              "    <tr style=\"text-align: right;\">\n",
              "      <th></th>\n",
              "      <th>time</th>\n",
              "      <th>heart_rate</th>\n",
              "      <th>x_motion</th>\n",
              "      <th>y_motion</th>\n",
              "      <th>z_motion</th>\n",
              "      <th>step_count</th>\n",
              "      <th>sleep_label</th>\n",
              "      <th>time_feature</th>\n",
              "      <th>heart_rate_feature</th>\n",
              "      <th>count_feature</th>\n",
              "      <th>cosine_feature</th>\n",
              "      <th>psg_label</th>\n",
              "      <th>subject_id</th>\n",
              "    </tr>\n",
              "  </thead>\n",
              "  <tbody>\n",
              "    <tr>\n",
              "      <th>0</th>\n",
              "      <td>1970-01-01 00:00:00</td>\n",
              "      <td>2.343046</td>\n",
              "      <td>-1.304122</td>\n",
              "      <td>1.648084</td>\n",
              "      <td>0.251126</td>\n",
              "      <td>8.607776</td>\n",
              "      <td>0</td>\n",
              "      <td>0.000000</td>\n",
              "      <td>0.480706</td>\n",
              "      <td>5.530874</td>\n",
              "      <td>2.452504</td>\n",
              "      <td>0</td>\n",
              "      <td>46343</td>\n",
              "    </tr>\n",
              "    <tr>\n",
              "      <th>1</th>\n",
              "      <td>1970-01-01 00:00:30</td>\n",
              "      <td>3.339652</td>\n",
              "      <td>-1.513119</td>\n",
              "      <td>1.612262</td>\n",
              "      <td>0.111929</td>\n",
              "      <td>4.815162</td>\n",
              "      <td>0</td>\n",
              "      <td>0.008333</td>\n",
              "      <td>0.451398</td>\n",
              "      <td>4.483025</td>\n",
              "      <td>2.442553</td>\n",
              "      <td>0</td>\n",
              "      <td>46343</td>\n",
              "    </tr>\n",
              "    <tr>\n",
              "      <th>2</th>\n",
              "      <td>1970-01-01 00:01:00</td>\n",
              "      <td>2.524247</td>\n",
              "      <td>-0.006384</td>\n",
              "      <td>1.979267</td>\n",
              "      <td>1.727603</td>\n",
              "      <td>0.891768</td>\n",
              "      <td>0</td>\n",
              "      <td>0.016667</td>\n",
              "      <td>0.398636</td>\n",
              "      <td>3.124169</td>\n",
              "      <td>2.432611</td>\n",
              "      <td>0</td>\n",
              "      <td>46343</td>\n",
              "    </tr>\n",
              "    <tr>\n",
              "      <th>3</th>\n",
              "      <td>1970-01-01 00:01:30</td>\n",
              "      <td>1.618243</td>\n",
              "      <td>-0.679271</td>\n",
              "      <td>-0.327864</td>\n",
              "      <td>1.896059</td>\n",
              "      <td>-0.154470</td>\n",
              "      <td>0</td>\n",
              "      <td>0.025000</td>\n",
              "      <td>0.374122</td>\n",
              "      <td>2.640312</td>\n",
              "      <td>2.422674</td>\n",
              "      <td>0</td>\n",
              "      <td>46343</td>\n",
              "    </tr>\n",
              "    <tr>\n",
              "      <th>4</th>\n",
              "      <td>1970-01-01 00:02:00</td>\n",
              "      <td>1.708843</td>\n",
              "      <td>-0.591184</td>\n",
              "      <td>-0.311630</td>\n",
              "      <td>1.923702</td>\n",
              "      <td>-0.154470</td>\n",
              "      <td>0</td>\n",
              "      <td>0.033333</td>\n",
              "      <td>0.354029</td>\n",
              "      <td>3.032657</td>\n",
              "      <td>2.412742</td>\n",
              "      <td>0</td>\n",
              "      <td>46343</td>\n",
              "    </tr>\n",
              "  </tbody>\n",
              "</table>\n",
              "</div>"
            ],
            "text/plain": [
              "                 time  heart_rate  x_motion  y_motion  z_motion  step_count  \\\n",
              "0 1970-01-01 00:00:00    2.343046 -1.304122  1.648084  0.251126    8.607776   \n",
              "1 1970-01-01 00:00:30    3.339652 -1.513119  1.612262  0.111929    4.815162   \n",
              "2 1970-01-01 00:01:00    2.524247 -0.006384  1.979267  1.727603    0.891768   \n",
              "3 1970-01-01 00:01:30    1.618243 -0.679271 -0.327864  1.896059   -0.154470   \n",
              "4 1970-01-01 00:02:00    1.708843 -0.591184 -0.311630  1.923702   -0.154470   \n",
              "\n",
              "   sleep_label  time_feature  heart_rate_feature  count_feature  \\\n",
              "0            0      0.000000            0.480706       5.530874   \n",
              "1            0      0.008333            0.451398       4.483025   \n",
              "2            0      0.016667            0.398636       3.124169   \n",
              "3            0      0.025000            0.374122       2.640312   \n",
              "4            0      0.033333            0.354029       3.032657   \n",
              "\n",
              "   cosine_feature  psg_label  subject_id  \n",
              "0        2.452504          0       46343  \n",
              "1        2.442553          0       46343  \n",
              "2        2.432611          0       46343  \n",
              "3        2.422674          0       46343  \n",
              "4        2.412742          0       46343  "
            ]
          },
          "metadata": {
            "tags": []
          },
          "execution_count": 35
        }
      ]
    },
    {
      "cell_type": "markdown",
      "metadata": {
        "id": "dDj-Kuqlusx6"
      },
      "source": [
        "---\n",
        "---\n",
        "\n",
        "# 9. Output version 2 of the standardised data\n",
        "\n",
        "---\n",
        "---"
      ]
    },
    {
      "cell_type": "markdown",
      "metadata": {
        "id": "owqh7p3uusx6"
      },
      "source": [
        "Writing the train, validation and test set data to csv files"
      ]
    },
    {
      "cell_type": "code",
      "metadata": {
        "id": "Q92iLgthusx7"
      },
      "source": [
        "std_2_train_df.to_csv('std_2_train.csv', index=False)\n",
        "std_2_val_df.to_csv('std_2_val.csv', index=False)\n",
        "std_2_test_df.to_csv('std_2_test.csv', index=False)"
      ],
      "execution_count": null,
      "outputs": []
    },
    {
      "cell_type": "markdown",
      "metadata": {
        "id": "yul5kL6cusx7"
      },
      "source": [
        "Write the full data to a csv file"
      ]
    },
    {
      "cell_type": "code",
      "metadata": {
        "id": "sraDcKAEusx7"
      },
      "source": [
        "std_2_full_df.to_csv('std_2_full.csv', index=False)"
      ],
      "execution_count": null,
      "outputs": []
    }
  ]
}